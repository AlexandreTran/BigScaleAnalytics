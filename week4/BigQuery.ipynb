{
  "nbformat": 4,
  "nbformat_minor": 0,
  "metadata": {
    "kernelspec": {
      "display_name": "Python 3",
      "language": "python",
      "name": "python3"
    },
    "language_info": {
      "codemirror_mode": {
        "name": "ipython",
        "version": 3
      },
      "file_extension": ".py",
      "mimetype": "text/x-python",
      "name": "python",
      "nbconvert_exporter": "python",
      "pygments_lexer": "ipython3",
      "version": "3.6.7"
    },
    "colab": {
      "name": "BigQuery.ipynb",
      "provenance": [],
      "include_colab_link": true
    }
  },
  "cells": [
    {
      "cell_type": "markdown",
      "metadata": {
        "id": "view-in-github",
        "colab_type": "text"
      },
      "source": [
        "<a href=\"https://colab.research.google.com/github/michalis0/BigScaleAnalytics/blob/master/week4/BigQuery.ipynb\" target=\"_parent\"><img src=\"https://colab.research.google.com/assets/colab-badge.svg\" alt=\"Open In Colab\"/></a>"
      ]
    },
    {
      "cell_type": "markdown",
      "metadata": {
        "id": "CKBqws7-hQJy",
        "colab_type": "text"
      },
      "source": [
        "# BigQuery"
      ]
    },
    {
      "cell_type": "code",
      "metadata": {
        "id": "JOzg-82khQJ0",
        "colab_type": "code",
        "colab": {}
      },
      "source": [
        "import pandas as pd"
      ],
      "execution_count": 0,
      "outputs": []
    },
    {
      "cell_type": "code",
      "metadata": {
        "id": "z21oIw8mhQJ5",
        "colab_type": "code",
        "colab": {}
      },
      "source": [
        "from google.cloud import bigquery"
      ],
      "execution_count": 0,
      "outputs": []
    },
    {
      "cell_type": "code",
      "metadata": {
        "id": "uOS8udrrhQJ-",
        "colab_type": "code",
        "colab": {}
      },
      "source": [
        "#for colab users\n",
        "from google.colab import auth\n",
        "auth.authenticate_user()\n",
        "print('Authenticated')"
      ],
      "execution_count": 0,
      "outputs": []
    },
    {
      "cell_type": "code",
      "metadata": {
        "id": "jaZp4LWDhQKD",
        "colab_type": "code",
        "colab": {}
      },
      "source": [
        "# Create a \"Client\" object\n",
        "client = bigquery.Client(project=\"week4-bigscaleanalytics\")"
      ],
      "execution_count": 0,
      "outputs": []
    },
    {
      "cell_type": "code",
      "metadata": {
        "id": "mszHfj7EhQKF",
        "colab_type": "code",
        "colab": {}
      },
      "source": [
        "# Construct a reference to the week4 dataset\n",
        "dataset_ref = client.dataset(\"Week4_datasets\", project=\"week4-bigscaleanalytics\")\n",
        "\n",
        "# API request - fetch the dataset\n",
        "dataset = client.get_dataset(dataset_ref)"
      ],
      "execution_count": 0,
      "outputs": []
    },
    {
      "cell_type": "code",
      "metadata": {
        "id": "EwOGmvVZhQKK",
        "colab_type": "code",
        "colab": {}
      },
      "source": [
        "# List all the tables in the  dataset\n",
        "tables = list(client.list_tables(dataset))\n",
        "\n",
        "# Print names of all tables in the dataset \n",
        "for table in tables:  \n",
        "    print(table.table_id)"
      ],
      "execution_count": 0,
      "outputs": []
    },
    {
      "cell_type": "code",
      "metadata": {
        "id": "HB0OZr8thQKQ",
        "colab_type": "code",
        "colab": {}
      },
      "source": [
        "# Construct a reference to the \"Teams\" table\n",
        "table_ref = dataset_ref.table(\"Teams\")\n",
        "\n",
        "# API request - fetch the table\n",
        "teams_table = client.get_table(table_ref)\n",
        "\n",
        "table_ref = dataset_ref.table(\"Players\")\n",
        "players_table = client.get_table(table_ref)"
      ],
      "execution_count": 0,
      "outputs": []
    },
    {
      "cell_type": "code",
      "metadata": {
        "id": "vv14MQxchQKT",
        "colab_type": "code",
        "colab": {}
      },
      "source": [
        "# Print information on all the columns in the \"Teams\" table \n",
        "players_table.schema"
      ],
      "execution_count": 0,
      "outputs": []
    },
    {
      "cell_type": "code",
      "metadata": {
        "id": "NgOPBdOthQKW",
        "colab_type": "code",
        "colab": {}
      },
      "source": [
        "# Preview the first five lines of the \"Teams\" table. You can do this with pandas\n",
        "client.list_rows(teams_table, max_results=5).to_dataframe()"
      ],
      "execution_count": 0,
      "outputs": []
    },
    {
      "cell_type": "code",
      "metadata": {
        "id": "KMcNraGvhQKd",
        "colab_type": "code",
        "colab": {}
      },
      "source": [
        "# an example query\n",
        "q1 = \"\"\"\n",
        "select * from `week4-bigscaleanalytics.Week4_datasets.Teams`\n",
        "where ranking < 20\n",
        "order by ranking asc\n",
        "\"\"\"\n",
        "\n",
        "query_job = client.query(q1)\n",
        "query_job.to_dataframe()"
      ],
      "execution_count": 0,
      "outputs": []
    },
    {
      "cell_type": "code",
      "metadata": {
        "id": "jHeMmOS7hQKh",
        "colab_type": "code",
        "colab": {}
      },
      "source": [
        "# join the two data sets\n",
        "q2 = \"\"\"\n",
        "\n",
        "\"\"\"\n",
        "\n",
        "query_job = client.query(q2)\n",
        "query_job.to_dataframe().head(10)"
      ],
      "execution_count": 0,
      "outputs": []
    },
    {
      "cell_type": "code",
      "metadata": {
        "id": "RUu2bleNhQKk",
        "colab_type": "code",
        "colab": {}
      },
      "source": [
        "# practice more queries on your own\n",
        "# you can even use the examples from week 2"
      ],
      "execution_count": 0,
      "outputs": []
    },
    {
      "cell_type": "markdown",
      "metadata": {
        "id": "U1Qwu7R9hQKn",
        "colab_type": "text"
      },
      "source": [
        "## Exercise:\n",
        "Let's run some queries on the accidents data of 2016 from the nhtsa traffic facilities dataset. This data-set is publicly available in google cloud."
      ]
    },
    {
      "cell_type": "code",
      "metadata": {
        "id": "Ib2Qi--ehQKn",
        "colab_type": "code",
        "colab": {}
      },
      "source": [
        "# Construct a reference to the traffic facilities dataset\n",
        "traffic_ref = client.dataset(\"nhtsa_traffic_fatalities\", project=\"bigquery-public-data\")\n",
        "\n",
        "# API request - fetch the dataset\n",
        "traffic_dataset = client.get_dataset(traffic_ref)"
      ],
      "execution_count": 0,
      "outputs": []
    },
    {
      "cell_type": "code",
      "metadata": {
        "id": "_SEILXLQhQKq",
        "colab_type": "code",
        "colab": {}
      },
      "source": [
        "# Construct a reference to the \"accident_2016\" table\n",
        "accidents_ref = traffic_ref.table(\"accident_2016\")\n",
        "\n",
        "# API request - fetch the table\n",
        "accidents_table = client.get_table(accidents_ref)"
      ],
      "execution_count": 0,
      "outputs": []
    },
    {
      "cell_type": "code",
      "metadata": {
        "id": "wVWdlRkLhQKt",
        "colab_type": "code",
        "colab": {}
      },
      "source": [
        "accidents_table.schema"
      ],
      "execution_count": 0,
      "outputs": []
    },
    {
      "cell_type": "code",
      "metadata": {
        "id": "HxgS7aWfhQKw",
        "colab_type": "code",
        "colab": {}
      },
      "source": [
        "# Preview the first five lines of the \"accident_2016\" table\n",
        "client.list_rows(accidents_table, max_results=5).to_dataframe()"
      ],
      "execution_count": 0,
      "outputs": []
    },
    {
      "cell_type": "markdown",
      "metadata": {
        "id": "jhzE3USQhQK0",
        "colab_type": "text"
      },
      "source": [
        "1- how many crashes happened in each month?"
      ]
    },
    {
      "cell_type": "code",
      "metadata": {
        "id": "Z2bXpvOihQK1",
        "colab_type": "code",
        "colab": {}
      },
      "source": [
        "# how many crashes per month\n",
        "q3 = \"\"\"\n",
        "\n",
        "\"\"\"\n",
        "\n",
        "query_job_3 = client.query(q3)\n",
        "query_job_3.to_dataframe()\n",
        "\n"
      ],
      "execution_count": 0,
      "outputs": []
    },
    {
      "cell_type": "markdown",
      "metadata": {
        "id": "42AWnGXshQK3",
        "colab_type": "text"
      },
      "source": [
        "2- Let's call the accidents with more that 5 motor vehichels in transport involved as massive_crash and otherwise call them small crash. Then return the number of these type of crashes for each weather condition.\n",
        "\n",
        "__Hint: use columns `atmospheric_conditions_1_name` and `number_of_motor_vehicles_in_transport_mvit`.__"
      ]
    },
    {
      "cell_type": "code",
      "metadata": {
        "id": "eOHDlYTehQK3",
        "colab_type": "code",
        "colab": {}
      },
      "source": [
        "q4 = \"\"\"\n",
        "\n",
        "\"\"\"\n",
        "\n",
        "query_job_4 = client.query(q4)\n",
        "query_job_4.to_dataframe()"
      ],
      "execution_count": 0,
      "outputs": []
    },
    {
      "cell_type": "markdown",
      "metadata": {
        "id": "Pt5QZPtohQK8",
        "colab_type": "text"
      },
      "source": [
        "3 - Find the top 5 states with the most total number of drunk drivers involved in accidents."
      ]
    },
    {
      "cell_type": "code",
      "metadata": {
        "id": "lHGQ6d3chQK9",
        "colab_type": "code",
        "colab": {}
      },
      "source": [
        "# find the top 5 states with the most number of drunk drivers\n",
        "q5 = \"\"\"\n",
        "\n",
        "\"\"\"\n",
        "\n",
        "query_job_5 = client.query(q5)\n",
        "query_job_5.to_dataframe()"
      ],
      "execution_count": 0,
      "outputs": []
    },
    {
      "cell_type": "markdown",
      "metadata": {
        "id": "r9-01i8ThQLC",
        "colab_type": "text"
      },
      "source": [
        "4- Let's see which states, working with a cell-phone is a major cause of accidents. For this you need to use `distract_2016` table. return the state names together with the number of crashes where the driver was distracted \"while manipulating cellular phone\"."
      ]
    },
    {
      "cell_type": "code",
      "metadata": {
        "id": "XQ24FEDAhQLD",
        "colab_type": "code",
        "colab": {}
      },
      "source": [
        "q6 = \"\"\"\n",
        "\n",
        "\"\"\"\n",
        "\n",
        "query_job_6 = client.query(q6)\n",
        "query_job_6.to_dataframe()"
      ],
      "execution_count": 0,
      "outputs": []
    },
    {
      "cell_type": "markdown",
      "metadata": {
        "id": "MIfszew9hQLG",
        "colab_type": "text"
      },
      "source": [
        "5- sometimes a \"live animal\" is a reason that a driver maneuvers and this cause an accidents. Let's see for which months of the year accidents with such a cause happen more. you need to use the `maneuver_2016` table. Return the month and the number of incidents. "
      ]
    },
    {
      "cell_type": "code",
      "metadata": {
        "id": "UMzdbJiqhQLH",
        "colab_type": "code",
        "colab": {}
      },
      "source": [
        "q7 = \"\"\"\n",
        "\n",
        "\"\"\"\n",
        "\n",
        "query_job_7 = client.query(q7)\n",
        "query_job_7.to_dataframe()"
      ],
      "execution_count": 0,
      "outputs": []
    },
    {
      "cell_type": "markdown",
      "metadata": {
        "id": "uokLzXg8hQLJ",
        "colab_type": "text"
      },
      "source": [
        "6- In which months of the year in the state of Alaska, \"poor road conditions\" cause more accidents. Again use the `maneuver_2016` table. return the month and the number of incidents."
      ]
    },
    {
      "cell_type": "code",
      "metadata": {
        "id": "KC-6BdHUhQLK",
        "colab_type": "code",
        "colab": {}
      },
      "source": [
        "q8 = \"\"\"\n",
        "\n",
        "\"\"\"\n",
        "\n",
        "query_job_8 = client.query(q8)\n",
        "query_job_8.to_dataframe()"
      ],
      "execution_count": 0,
      "outputs": []
    },
    {
      "cell_type": "markdown",
      "metadata": {
        "id": "evibrotIhQLM",
        "colab_type": "text"
      },
      "source": [
        "7- For the vehichels having a \"brake system\" problem which factors where the major reasons that caused the driver to maneuver. Return the `driver_maneuvered_to_avoid_name` column together with the number of incidents for each maneuver reason. You need to use the `factor_2016` table."
      ]
    },
    {
      "cell_type": "code",
      "metadata": {
        "id": "Mt5hftOrhQLM",
        "colab_type": "code",
        "colab": {}
      },
      "source": [
        "q9 = \"\"\"\n",
        "\n",
        "\"\"\"\n",
        "\n",
        "query_job_9 = client.query(q9)\n",
        "query_job_9.to_dataframe()"
      ],
      "execution_count": 0,
      "outputs": []
    },
    {
      "cell_type": "markdown",
      "metadata": {
        "id": "cthZQlakhQLP",
        "colab_type": "text"
      },
      "source": [
        "8- Sometimes a non-motorist is ivolved in a crash. Find the number of crashes in which an \"inattentive\" person was involved in each state. return the state name and number of crashes in the descending order of number of crashes."
      ]
    },
    {
      "cell_type": "code",
      "metadata": {
        "id": "rCbL0G_fhQLQ",
        "colab_type": "code",
        "colab": {}
      },
      "source": [
        "q10 = \"\"\"\n",
        "\n",
        "\"\"\"\n",
        "\n",
        "query_job_10 = client.query(q10)\n",
        "query_job_10.to_dataframe()"
      ],
      "execution_count": 0,
      "outputs": []
    },
    {
      "cell_type": "code",
      "metadata": {
        "id": "3Y_CFKRmhQLT",
        "colab_type": "code",
        "colab": {}
      },
      "source": [
        ""
      ],
      "execution_count": 0,
      "outputs": []
    }
  ]
}