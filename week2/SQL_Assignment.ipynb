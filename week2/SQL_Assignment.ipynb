{
  "nbformat": 4,
  "nbformat_minor": 0,
  "metadata": {
    "kernelspec": {
      "display_name": "Python 3",
      "language": "python",
      "name": "python3"
    },
    "language_info": {
      "codemirror_mode": {
        "name": "ipython",
        "version": 3
      },
      "file_extension": ".py",
      "mimetype": "text/x-python",
      "name": "python",
      "nbconvert_exporter": "python",
      "pygments_lexer": "ipython3",
      "version": "3.6.7"
    },
    "colab": {
      "name": "SQL_Assignment.ipynb",
      "provenance": [],
      "include_colab_link": true
    }
  },
  "cells": [
    {
      "cell_type": "markdown",
      "metadata": {
        "id": "view-in-github",
        "colab_type": "text"
      },
      "source": [
        "<a href=\"https://colab.research.google.com/github/michalis0/BigScaleAnalytics/blob/master/week2/SQL_Assignment.ipynb\" target=\"_parent\"><img src=\"https://colab.research.google.com/assets/colab-badge.svg\" alt=\"Open In Colab\"/></a>"
      ]
    },
    {
      "cell_type": "markdown",
      "metadata": {
        "id": "Ow3xcCbn8WSO",
        "colab_type": "text"
      },
      "source": [
        "### Assignment - SQL"
      ]
    },
    {
      "cell_type": "code",
      "metadata": {
        "id": "swXpAOS-8WSS",
        "colab_type": "code",
        "colab": {}
      },
      "source": [
        "%load_ext sql\n",
        "import pandas as pd\n",
        "%sql sqlite://"
      ],
      "execution_count": 0,
      "outputs": []
    },
    {
      "cell_type": "markdown",
      "metadata": {
        "id": "H2Ea0LTO8WSe",
        "colab_type": "text"
      },
      "source": [
        "### <font color = 'green'>World Cup Data</font>"
      ]
    },
    {
      "cell_type": "code",
      "metadata": {
        "id": "8xH-QufV8WSh",
        "colab_type": "code",
        "colab": {}
      },
      "source": [
        "# Load tables from CSV files\n",
        "# Players\n",
        "players_url = 'https://raw.githubusercontent.com/michalis0/BigScaleAnalytics/master/week2/data/Players.csv'\n",
        "Players = pd.read_csv(players_url, index_col=0, encoding='utf-8')\n",
        "%sql drop table if exists Players;\n",
        "%sql persist Players\n",
        "# Teams\n",
        "teams_url = 'https://raw.githubusercontent.com/michalis0/BigScaleAnalytics/master/week2/data/Teams.csv'\n",
        "Teams = pd.read_csv(teams_url, index_col=0, encoding='utf-8')\n",
        "%sql drop table if exists Teams;\n",
        "%sql persist Teams\n",
        "# join Teams and Players\n",
        "playersext_url = 'https://raw.githubusercontent.com/michalis0/BigScaleAnalytics/master/week2/data/PlayersExt.csv'\n",
        "PlayersExt = pd.read_csv(playersext_url, index_col=0, encoding='utf-8')\n",
        "%sql drop table if exists PlayersExt;\n",
        "%sql persist PlayersExt"
      ],
      "execution_count": 0,
      "outputs": []
    },
    {
      "cell_type": "markdown",
      "metadata": {
        "id": "meZCn5os8WSu",
        "colab_type": "text"
      },
      "source": [
        "#### Look at sample of Players and Teams tables"
      ]
    },
    {
      "cell_type": "code",
      "metadata": {
        "id": "meh70hNH8WSx",
        "colab_type": "code",
        "colab": {}
      },
      "source": [
        "%%sql\n",
        "select * from Players limit 5"
      ],
      "execution_count": 0,
      "outputs": []
    },
    {
      "cell_type": "code",
      "metadata": {
        "id": "flnoKz4U8WS6",
        "colab_type": "code",
        "colab": {}
      },
      "source": [
        "%%sql\n",
        "select * from Teams limit 5"
      ],
      "execution_count": 0,
      "outputs": []
    },
    {
      "cell_type": "markdown",
      "metadata": {
        "id": "U_eGY1nK8WS_",
        "colab_type": "text"
      },
      "source": [
        "__PlayersExt__ table is simply the inner join of the __players__ and __Teams__ tables. Let's have a look at a sample of this table."
      ]
    },
    {
      "cell_type": "code",
      "metadata": {
        "id": "YgN5Fr2w8WTA",
        "colab_type": "code",
        "colab": {}
      },
      "source": [
        "%%sql\n",
        "select * from PlayersExt limit 5"
      ],
      "execution_count": 0,
      "outputs": []
    },
    {
      "cell_type": "markdown",
      "metadata": {
        "id": "as0Jh2YK8WTF",
        "colab_type": "text"
      },
      "source": [
        "#### <font color = 'green'>World Cup Basic Queries</font>"
      ]
    },
    {
      "cell_type": "markdown",
      "metadata": {
        "collapsed": true,
        "id": "C4zdhp2c8WTG",
        "colab_type": "text"
      },
      "source": [
        "*1)  What player on a team with “ia” in the team name played less than 200 minutes and made more than 100 passes? Return the player surname and team. *\n",
        "\n",
        "__Hint: To check if attribute A contains string S use \"A like '%S%'\" __"
      ]
    },
    {
      "cell_type": "code",
      "metadata": {
        "id": "6K_kIn3b8WTK",
        "colab_type": "code",
        "colab": {}
      },
      "source": [
        "%%sql\n",
        "select surname, team from Players where Players.team like '%ia%' AND Players.minutes < 200 \n",
        "AND Players.passes > 100"
      ],
      "execution_count": 0,
      "outputs": []
    },
    {
      "cell_type": "markdown",
      "metadata": {
        "collapsed": true,
        "id": "4gNjdG4H8WTR",
        "colab_type": "text"
      },
      "source": [
        "*2) Find all players who made more than 20 shots. Return all player information in descending order of shots made.*\n",
        "\n",
        "__Hint: SQL ordering syntax: \"ORDER BY column1, column2, ... ASC|DESC\" __"
      ]
    },
    {
      "cell_type": "code",
      "metadata": {
        "id": "wmYeLAw68WTU",
        "colab_type": "code",
        "colab": {}
      },
      "source": [
        "%%sql\n",
        "select * from Players where Players.shots > 20 order by Players.shots desc"
      ],
      "execution_count": 0,
      "outputs": []
    },
    {
      "cell_type": "markdown",
      "metadata": {
        "collapsed": true,
        "id": "aLralf658WTb",
        "colab_type": "text"
      },
      "source": [
        "*3) Find the goalkeepers of teams that played more than four games. List the surname of the goalkeeper, the team, and the number of minutes the goalkeeper played.*\n",
        "\n",
        "__Hint: You should use the joined data, `PlayersExt`__"
      ]
    },
    {
      "cell_type": "code",
      "metadata": {
        "id": "AMRLCwdh8WTc",
        "colab_type": "code",
        "colab": {}
      },
      "source": [
        "%%sql\n",
        "YOUR QUERY HERE"
      ],
      "execution_count": 0,
      "outputs": []
    },
    {
      "cell_type": "markdown",
      "metadata": {
        "collapsed": true,
        "id": "vRT0J7sY8WTh",
        "colab_type": "text"
      },
      "source": [
        "*4) How many players who play on a team with ranking <10 played more than 350 minutes? Return one number in a column named 'superstar'.*\n",
        "\n",
        "__Hint: use \"SELECT ... AS new_col_name\" to rename a column__"
      ]
    },
    {
      "cell_type": "code",
      "metadata": {
        "id": "hSseV7oi8WTi",
        "colab_type": "code",
        "colab": {}
      },
      "source": [
        "%%sql\n",
        "YOUR QUERY HERE"
      ],
      "execution_count": 0,
      "outputs": []
    },
    {
      "cell_type": "markdown",
      "metadata": {
        "collapsed": true,
        "id": "DZlTul358WTl",
        "colab_type": "text"
      },
      "source": [
        "*5) What is the average number of passes made by forwards? By midfielders? Write one query that gives both values with the corresponding position.*\n",
        "\n",
        "__Hint: use the GROUP BY clause__\n",
        "\n",
        "__Hint: when selecting columns you can use AVG, SUM or COUNT clauses to calculate aggregates__"
      ]
    },
    {
      "cell_type": "code",
      "metadata": {
        "id": "76mZ7BVJ8WTm",
        "colab_type": "code",
        "colab": {}
      },
      "source": [
        "%%sql\n",
        "YOUR QUERY HERE"
      ],
      "execution_count": 0,
      "outputs": []
    },
    {
      "cell_type": "markdown",
      "metadata": {
        "collapsed": true,
        "id": "pLjyR6wh8WTo",
        "colab_type": "text"
      },
      "source": [
        "*6) Which team has the highest average number of passes per minute played? Return the team and average passes per minute. *\n",
        "\n",
        "__Hint 1: You can compute a team's average number of passes per minute played by dividing the total number of passes by the total number of minutes. To force floating point division, multiply one operand by 1.0. __\n",
        "\n",
        "__Hint 2: Consider using Limit. __"
      ]
    },
    {
      "cell_type": "code",
      "metadata": {
        "id": "7ApyOn9N8WTq",
        "colab_type": "code",
        "colab": {}
      },
      "source": [
        "%%sql\n",
        "YOUR QUERY HERE"
      ],
      "execution_count": 0,
      "outputs": []
    },
    {
      "cell_type": "markdown",
      "metadata": {
        "id": "v1dXQKXu8WTv",
        "colab_type": "text"
      },
      "source": [
        "#### <font color = 'green'>World Cup Advanced Queries</font>"
      ]
    },
    {
      "cell_type": "markdown",
      "metadata": {
        "id": "js1aBftZ8WTy",
        "colab_type": "text"
      },
      "source": [
        "*1) Find all pairs of teams who have the same number of goalsFor as\n",
        "each other and the same number of goalsAgainst as each other.\n",
        "Return the teams and numbers of goalsFor and goalsAgainst.\n",
        "Make sure to return each pair only once.*\n",
        "\n",
        "__Hint: You basically need to do a self join of the Teams table. For that you need to join different name aliases of the Teams table. checkout [here](https://www.w3schools.com/sql/sql_join_self.asp) for help.__"
      ]
    },
    {
      "cell_type": "code",
      "metadata": {
        "id": "LzpO1c3V8WTz",
        "colab_type": "code",
        "colab": {}
      },
      "source": [
        "%%sql\n",
        "select A.team AS team_1, B.team AS team_2, A.goalsFor, A.goalsAgainst\n",
        "from Teams A, Teams B\n",
        "# complete the rest of the query"
      ],
      "execution_count": 0,
      "outputs": []
    },
    {
      "cell_type": "markdown",
      "metadata": {
        "id": "g9QX2Jie8WT4",
        "colab_type": "text"
      },
      "source": [
        "*2) Find all teams with ranking <30 where no player made more than 150 passes. Return the team and ranking.*\n",
        "\n",
        "__Hint: use HAVING clause (documentation [here](https://www.w3schools.com/sql/sql_having.asp))__"
      ]
    },
    {
      "cell_type": "code",
      "metadata": {
        "id": "xPOBexhd8WT4",
        "colab_type": "code",
        "colab": {}
      },
      "source": [
        "%%sql\n",
        "YOUR QUERY HERE"
      ],
      "execution_count": 0,
      "outputs": []
    },
    {
      "cell_type": "markdown",
      "metadata": {
        "id": "NbJzKIm98WT7",
        "colab_type": "text"
      },
      "source": [
        "*3) Which team has the highest ratio of goalsFor to goalsAgainst?*"
      ]
    },
    {
      "cell_type": "code",
      "metadata": {
        "id": "Bi2SUQgM8WT8",
        "colab_type": "code",
        "colab": {}
      },
      "source": [
        "%%sql\n",
        "YOUR QUERY HERE"
      ],
      "execution_count": 0,
      "outputs": []
    },
    {
      "cell_type": "markdown",
      "metadata": {
        "id": "u_7fplnQ8WT-",
        "colab_type": "text"
      },
      "source": [
        "*4) Find all teams whose defenders averaged more than 150 passes. Return the team and average number of passes by defenders, in descending order of average passes.*\n",
        "\n",
        "__Hint: again you may use the HAVING clause here__"
      ]
    },
    {
      "cell_type": "code",
      "metadata": {
        "id": "qOapic7E8WT_",
        "colab_type": "code",
        "colab": {}
      },
      "source": [
        "%%sql\n",
        "YOUR QUERY HERE"
      ],
      "execution_count": 0,
      "outputs": []
    },
    {
      "cell_type": "markdown",
      "metadata": {
        "id": "QWbQ8phy8WUD",
        "colab_type": "text"
      },
      "source": [
        "### <font color = 'green'>Titanic Data</font>"
      ]
    },
    {
      "cell_type": "code",
      "metadata": {
        "id": "Fef539uG8WUE",
        "colab_type": "code",
        "colab": {}
      },
      "source": [
        "# Load table from CSV file\n",
        "with open('Titanic.csv','r') as f:\n",
        "    Titanic = pd.read_csv(f, index_col=0, encoding='utf-8')\n",
        "%sql drop table if exists Titanic;\n",
        "%sql persist Titanic"
      ],
      "execution_count": 0,
      "outputs": []
    },
    {
      "cell_type": "markdown",
      "metadata": {
        "id": "tbJ2MgXT8WUG",
        "colab_type": "text"
      },
      "source": [
        "#### Look at sample of Titanic table"
      ]
    },
    {
      "cell_type": "code",
      "metadata": {
        "id": "GpCKkNZR8WUH",
        "colab_type": "code",
        "colab": {}
      },
      "source": [
        "%%sql\n",
        "select * from Titanic limit 5"
      ],
      "execution_count": 0,
      "outputs": []
    },
    {
      "cell_type": "markdown",
      "metadata": {
        "id": "i1uXCjq68WUJ",
        "colab_type": "text"
      },
      "source": [
        "#### <font color = 'green'>Titanic Basic Queries</font>"
      ]
    },
    {
      "cell_type": "markdown",
      "metadata": {
        "collapsed": true,
        "id": "OZxzuzCw8WUK",
        "colab_type": "text"
      },
      "source": [
        "*1) How many married women over age 50 embarked in Cherbourg? Note: To check if attribute A begins with string S use \"A like 'S%'\"*"
      ]
    },
    {
      "cell_type": "code",
      "metadata": {
        "id": "YkqQht348WUL",
        "colab_type": "code",
        "colab": {}
      },
      "source": [
        "%%sql\n",
        "select count(*) from Titanic where Titanic.gender == 'F' \n",
        "AND Titanic.embarked like 'Cherbourg%'\n",
        "AND Titanic.age > 50"
      ],
      "execution_count": 0,
      "outputs": []
    },
    {
      "cell_type": "markdown",
      "metadata": {
        "collapsed": true,
        "id": "uSB3G2dg8WUQ",
        "colab_type": "text"
      },
      "source": [
        "*2) List the average fare paid by passengers in each of the embarkation cities (along with the city), in descending order of average fare.*"
      ]
    },
    {
      "cell_type": "code",
      "metadata": {
        "id": "31-xalVn8WUR",
        "colab_type": "code",
        "colab": {}
      },
      "source": [
        "%%sql\n",
        "YOUR QUERY HERE"
      ],
      "execution_count": 0,
      "outputs": []
    },
    {
      "cell_type": "markdown",
      "metadata": {
        "collapsed": true,
        "id": "rEL4ECjg8WUV",
        "colab_type": "text"
      },
      "source": [
        "*3) What's the most common last name among passengers?*"
      ]
    },
    {
      "cell_type": "code",
      "metadata": {
        "id": "T4r9akbA8WUX",
        "colab_type": "code",
        "colab": {}
      },
      "source": [
        "%%sql\n",
        "YOUR QUERY HERE"
      ],
      "execution_count": 0,
      "outputs": []
    },
    {
      "cell_type": "markdown",
      "metadata": {
        "collapsed": true,
        "id": "OqIfsDiu8WUa",
        "colab_type": "text"
      },
      "source": [
        "*4) Write three queries: the total number of passengers; the number of passengers under 30; the number of passengers 30 or older. Why do the second and third numbers not add up to the first?*"
      ]
    },
    {
      "cell_type": "code",
      "metadata": {
        "id": "mc-KOeLo8WUb",
        "colab_type": "code",
        "colab": {}
      },
      "source": [
        "%%sql\n",
        "YOUR QUERY HERE"
      ],
      "execution_count": 0,
      "outputs": []
    },
    {
      "cell_type": "code",
      "metadata": {
        "id": "n_UtmFrl8WUe",
        "colab_type": "code",
        "colab": {}
      },
      "source": [
        "%%sql\n",
        "YOUR QUERY HERE"
      ],
      "execution_count": 0,
      "outputs": []
    },
    {
      "cell_type": "code",
      "metadata": {
        "id": "1SUbq9q98WUj",
        "colab_type": "code",
        "colab": {}
      },
      "source": [
        "%%sql\n",
        "YOUR QUERY HERE"
      ],
      "execution_count": 0,
      "outputs": []
    },
    {
      "cell_type": "markdown",
      "metadata": {
        "collapsed": true,
        "id": "oGoJIsqS8WUm",
        "colab_type": "text"
      },
      "source": [
        "*5) Blanks in SQL tables are given a special value called 'null', and conditions 'A is null' and 'A is not null' can be used in Where clauses to check whether attribute A has the 'null' value. How many passengers don't have a value for age? Now do your numbers add up?*"
      ]
    },
    {
      "cell_type": "code",
      "metadata": {
        "id": "yvK_LOoJ8WUm",
        "colab_type": "code",
        "colab": {}
      },
      "source": [
        "%%sql\n",
        "YOUR QUERY HERE"
      ],
      "execution_count": 0,
      "outputs": []
    },
    {
      "cell_type": "markdown",
      "metadata": {
        "collapsed": true,
        "id": "-Xj20xpl8WUq",
        "colab_type": "text"
      },
      "source": [
        "*6) For male survivors, female survivors, male non-survivors, and female non-survivors, how many passengers were in each of those four categories and what was their average fare paid?*"
      ]
    },
    {
      "cell_type": "code",
      "metadata": {
        "id": "mUnjnnH28WUt",
        "colab_type": "code",
        "colab": {}
      },
      "source": [
        "%%sql\n",
        "YOUR QUERY HERE"
      ],
      "execution_count": 0,
      "outputs": []
    },
    {
      "cell_type": "markdown",
      "metadata": {
        "id": "sWTpFjoG8WUy",
        "colab_type": "text"
      },
      "source": [
        "#### <font color = 'green'>Titanic Advanced Queries</font>"
      ]
    },
    {
      "cell_type": "markdown",
      "metadata": {
        "id": "ND9eL-2M8WUz",
        "colab_type": "text"
      },
      "source": [
        "*1) Are there any pairs of passengers with the same last name where one is in first class and the other is in third class? If so, return the last name and the two first names. Label the first-name columns 'first' for the passenger in first class and 'third' for the passenger in third class.*"
      ]
    },
    {
      "cell_type": "code",
      "metadata": {
        "id": "5xp2zfy-8WU0",
        "colab_type": "code",
        "colab": {}
      },
      "source": [
        "%%sql\n",
        "YOUR QUERY HERE"
      ],
      "execution_count": 0,
      "outputs": []
    },
    {
      "cell_type": "markdown",
      "metadata": {
        "id": "08oP8DlB8WU3",
        "colab_type": "text"
      },
      "source": [
        "*2) Which embarkation cities have more than 40 passengers whose age is missing? Reminder: Blanks in SQL tables are given a special value called 'null', and conditions 'A is null' and 'A is not null' can be used in Where clauses to check whether attribute A has the 'null' value.*"
      ]
    },
    {
      "cell_type": "code",
      "metadata": {
        "id": "8THmi4gQ8WU4",
        "colab_type": "code",
        "colab": {}
      },
      "source": [
        "%%sql\n",
        "YOUR QUERY HERE"
      ],
      "execution_count": 0,
      "outputs": []
    },
    {
      "cell_type": "markdown",
      "metadata": {
        "id": "d4tQhkGW8WU7",
        "colab_type": "text"
      },
      "source": [
        "*3) Find all classes where the average fare paid by passengers in that class was more than twice the overall average or less than half the overall average.*"
      ]
    },
    {
      "cell_type": "code",
      "metadata": {
        "id": "iY4YeOXf8WU7",
        "colab_type": "code",
        "colab": {}
      },
      "source": [
        "%%sql\n",
        "YOUR QUERY HERE"
      ],
      "execution_count": 0,
      "outputs": []
    },
    {
      "cell_type": "markdown",
      "metadata": {
        "id": "PeGyTGge8WU-",
        "colab_type": "text"
      },
      "source": [
        "*4) EXTRA CREDIT CHALLENGE: List each class and its survival rate, i.e., the fraction of passengers in that class who survived.*"
      ]
    },
    {
      "cell_type": "code",
      "metadata": {
        "id": "24S9LzVw8WU-",
        "colab_type": "code",
        "colab": {}
      },
      "source": [
        "%%sql\n",
        "YOUR QUERY HERE"
      ],
      "execution_count": 0,
      "outputs": []
    },
    {
      "cell_type": "markdown",
      "metadata": {
        "id": "t5oNolyg8WVB",
        "colab_type": "text"
      },
      "source": [
        "#### <font color = 'green'>Titanic Data Modification</font>"
      ]
    },
    {
      "cell_type": "code",
      "metadata": {
        "id": "EjnhXy1k8WVB",
        "colab_type": "code",
        "colab": {}
      },
      "source": [
        "# Reload table from CSV file\n",
        "# NOTE: You may want to reload frequently to reset the data as you\n",
        "# experiment with modifications\n",
        "with open('Titanic.csv','r') as f:\n",
        "    Titanic = pd.read_csv(f, index_col=0, encoding='utf-8')\n",
        "%sql drop table if exists Titanic;\n",
        "%sql persist Titanic"
      ],
      "execution_count": 0,
      "outputs": []
    },
    {
      "cell_type": "markdown",
      "metadata": {
        "id": "L-loAKBy8WVE",
        "colab_type": "text"
      },
      "source": [
        "*1) Subtract 5 from the fare paid by any passenger under the age of 10. Then compute the new average fare similar to question 2 in the previous section. NOTE: You can put two SQL statements in one cell separated by a semicolon.*\n",
        "\n",
        "__Hint: use UPDATE and SET clauses to modify a column. [documentation](https://www.w3schools.com/sql/sql_update.asp)__"
      ]
    },
    {
      "cell_type": "code",
      "metadata": {
        "id": "f_NL7NFl8WVF",
        "colab_type": "code",
        "colab": {}
      },
      "source": [
        "%%sql\n",
        "UPDATE Titanic\n",
        "set fare = fare - 5\n",
        "where age < 10\n",
        ";\n",
        "select AVG(fare) as avg_fare, embarked \n",
        "from Titanic\n",
        "GROUP BY embarked\n",
        "ORDER BY avg_fare desc"
      ],
      "execution_count": 0,
      "outputs": []
    },
    {
      "cell_type": "markdown",
      "metadata": {
        "id": "O_nxrddE8WVI",
        "colab_type": "text"
      },
      "source": [
        "*2) Create a new table called Survivors, containing the last and first names of all passengers who survived. Then count the number of tuples in the new table.*\n",
        "\n",
        "__Hint: use the `CREATE TABLE` clause__"
      ]
    },
    {
      "cell_type": "code",
      "metadata": {
        "id": "zNquUcYX8WVK",
        "colab_type": "code",
        "colab": {}
      },
      "source": [
        "%%sql\n",
        "drop table if exists Survivors;\n",
        "CREATE TABLE Survivors AS\n",
        "select first, last\n",
        "from Titanic \n",
        "where survived = 'yes'\n",
        ";\n",
        "select COUNT(*) from Survivors"
      ],
      "execution_count": 0,
      "outputs": []
    },
    {
      "cell_type": "markdown",
      "metadata": {
        "id": "9UNpd5NI8WVT",
        "colab_type": "text"
      },
      "source": [
        "*3) In the Titanic table delete all but the passengers paid more than 300.*\n",
        "\n",
        "__Hint: use the `DELETE FROM` clause__"
      ]
    },
    {
      "cell_type": "code",
      "metadata": {
        "id": "2cVPzxEY8WVV",
        "colab_type": "code",
        "colab": {}
      },
      "source": [
        ""
      ],
      "execution_count": 0,
      "outputs": []
    },
    {
      "cell_type": "markdown",
      "metadata": {
        "id": "mNVJ03FM8WVY",
        "colab_type": "text"
      },
      "source": [
        "*4) In what's left of the table after (3), insert a new tuple for yourself. You can decide your class, fare, where you embarked, and whether you survived. Then show the whole table.*\n",
        "\n",
        "__Hint: use the `INSERT INTO` clause__"
      ]
    },
    {
      "cell_type": "code",
      "metadata": {
        "id": "REnGeB1r8WVZ",
        "colab_type": "code",
        "colab": {}
      },
      "source": [
        ""
      ],
      "execution_count": 0,
      "outputs": []
    }
  ]
}