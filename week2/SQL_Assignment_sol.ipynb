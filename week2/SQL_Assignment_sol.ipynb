{
  "nbformat": 4,
  "nbformat_minor": 0,
  "metadata": {
    "kernelspec": {
      "display_name": "Python 3",
      "language": "python",
      "name": "python3"
    },
    "language_info": {
      "codemirror_mode": {
        "name": "ipython",
        "version": 3
      },
      "file_extension": ".py",
      "mimetype": "text/x-python",
      "name": "python",
      "nbconvert_exporter": "python",
      "pygments_lexer": "ipython3",
      "version": "3.6.7"
    },
    "colab": {
      "name": "SQL_Assignment_sol.ipynb",
      "provenance": [],
      "include_colab_link": true
    }
  },
  "cells": [
    {
      "cell_type": "markdown",
      "metadata": {
        "id": "view-in-github",
        "colab_type": "text"
      },
      "source": [
        "<a href=\"https://colab.research.google.com/github/ahmadajal/BigDataCourse/blob/master/week2/SQL_Assignment_sol.ipynb\" target=\"_parent\"><img src=\"https://colab.research.google.com/assets/colab-badge.svg\" alt=\"Open In Colab\"/></a>"
      ]
    },
    {
      "cell_type": "markdown",
      "metadata": {
        "id": "A2nISpTwrv2Z",
        "colab_type": "text"
      },
      "source": [
        "### Assignment - SQL"
      ]
    },
    {
      "cell_type": "code",
      "metadata": {
        "id": "1W4Bkzajrv2c",
        "colab_type": "code",
        "colab": {
          "base_uri": "https://localhost:8080/",
          "height": 34
        },
        "outputId": "c8648496-a7c5-49ad-e298-17f27ac8da53"
      },
      "source": [
        "%load_ext sql\n",
        "import pandas as pd\n",
        "%sql sqlite://"
      ],
      "execution_count": 1,
      "outputs": [
        {
          "output_type": "execute_result",
          "data": {
            "text/plain": [
              "'Connected: @None'"
            ]
          },
          "metadata": {
            "tags": []
          },
          "execution_count": 1
        }
      ]
    },
    {
      "cell_type": "markdown",
      "metadata": {
        "id": "ONIwHstirv2f",
        "colab_type": "text"
      },
      "source": [
        "### <font color = 'green'>World Cup Data</font>"
      ]
    },
    {
      "cell_type": "code",
      "metadata": {
        "id": "-JjKckc2rv2g",
        "colab_type": "code",
        "colab": {},
        "outputId": "1f806a0b-aa80-4e31-97d3-4d8b085a4283"
      },
      "source": [
        "# Load tables from CSV files\n",
        "# Players\n",
        "with open('Players.csv','rU') as f:\n",
        "    Players = pd.read_csv(f, index_col=0, encoding='utf-8')\n",
        "%sql drop table if exists Players;\n",
        "%sql persist Players\n",
        "# Teams\n",
        "with open('Teams.csv','rU') as f:\n",
        "    Teams = pd.read_csv(f, index_col=0, encoding='utf-8')\n",
        "%sql drop table if exists Teams;\n",
        "%sql persist Teams\n",
        "# join Teams and Players\n",
        "with open('PlayersExt.csv','rU') as f:\n",
        "    PlayersExt = pd.read_csv(f, index_col=0, encoding='utf-8')\n",
        "%sql drop table if exists PlayersExt;\n",
        "%sql persist PlayersExt"
      ],
      "execution_count": 0,
      "outputs": [
        {
          "output_type": "stream",
          "text": [
            " * sqlite://\n",
            "Done.\n",
            " * sqlite://\n",
            " * sqlite://\n",
            "Done.\n",
            " * sqlite://\n",
            " * sqlite://\n",
            "Done.\n",
            " * sqlite://\n"
          ],
          "name": "stdout"
        },
        {
          "output_type": "stream",
          "text": [
            "/Applications/anaconda/lib/python3.6/site-packages/ipykernel_launcher.py:3: DeprecationWarning: 'U' mode is deprecated\n",
            "  This is separate from the ipykernel package so we can avoid doing imports until\n",
            "/Applications/anaconda/lib/python3.6/site-packages/ipykernel_launcher.py:8: DeprecationWarning: 'U' mode is deprecated\n",
            "  \n",
            "/Applications/anaconda/lib/python3.6/site-packages/ipykernel_launcher.py:13: DeprecationWarning: 'U' mode is deprecated\n",
            "  del sys.path[0]\n"
          ],
          "name": "stderr"
        },
        {
          "output_type": "execute_result",
          "data": {
            "text/plain": [
              "'Persisted playersext'"
            ]
          },
          "metadata": {
            "tags": []
          },
          "execution_count": 23
        }
      ]
    },
    {
      "cell_type": "markdown",
      "metadata": {
        "id": "CoSXyPo6rv2j",
        "colab_type": "text"
      },
      "source": [
        "#### Look at sample of Players and Teams tables"
      ]
    },
    {
      "cell_type": "code",
      "metadata": {
        "id": "GnuPyF_frv2k",
        "colab_type": "code",
        "colab": {},
        "outputId": "bfc9ed43-cde8-4942-effd-24a724db2ee3"
      },
      "source": [
        "%%sql\n",
        "select * from Players limit 5"
      ],
      "execution_count": 0,
      "outputs": [
        {
          "output_type": "stream",
          "text": [
            " * sqlite://\n",
            "Done.\n"
          ],
          "name": "stdout"
        },
        {
          "output_type": "execute_result",
          "data": {
            "text/html": [
              "<table>\n",
              "    <tr>\n",
              "        <th>surname</th>\n",
              "        <th>team</th>\n",
              "        <th>position</th>\n",
              "        <th>minutes</th>\n",
              "        <th>shots</th>\n",
              "        <th>passes</th>\n",
              "        <th>tackles</th>\n",
              "        <th>saves</th>\n",
              "    </tr>\n",
              "    <tr>\n",
              "        <td>Abdoun</td>\n",
              "        <td>Algeria</td>\n",
              "        <td>midfielder</td>\n",
              "        <td>16</td>\n",
              "        <td>0</td>\n",
              "        <td>6</td>\n",
              "        <td>0</td>\n",
              "        <td>0</td>\n",
              "    </tr>\n",
              "    <tr>\n",
              "        <td>Belhadj</td>\n",
              "        <td>Algeria</td>\n",
              "        <td>defender</td>\n",
              "        <td>270</td>\n",
              "        <td>1</td>\n",
              "        <td>146</td>\n",
              "        <td>8</td>\n",
              "        <td>0</td>\n",
              "    </tr>\n",
              "    <tr>\n",
              "        <td>Boudebouz</td>\n",
              "        <td>Algeria</td>\n",
              "        <td>midfielder</td>\n",
              "        <td>74</td>\n",
              "        <td>3</td>\n",
              "        <td>28</td>\n",
              "        <td>1</td>\n",
              "        <td>0</td>\n",
              "    </tr>\n",
              "    <tr>\n",
              "        <td>Bougherra</td>\n",
              "        <td>Algeria</td>\n",
              "        <td>defender</td>\n",
              "        <td>270</td>\n",
              "        <td>1</td>\n",
              "        <td>89</td>\n",
              "        <td>11</td>\n",
              "        <td>0</td>\n",
              "    </tr>\n",
              "    <tr>\n",
              "        <td>Chaouchi</td>\n",
              "        <td>Algeria</td>\n",
              "        <td>goalkeeper</td>\n",
              "        <td>90</td>\n",
              "        <td>0</td>\n",
              "        <td>17</td>\n",
              "        <td>0</td>\n",
              "        <td>2</td>\n",
              "    </tr>\n",
              "</table>"
            ],
            "text/plain": [
              "[('Abdoun', 'Algeria', 'midfielder', 16, 0, 6, 0, 0),\n",
              " ('Belhadj', 'Algeria', 'defender', 270, 1, 146, 8, 0),\n",
              " ('Boudebouz', 'Algeria', 'midfielder', 74, 3, 28, 1, 0),\n",
              " ('Bougherra', 'Algeria', 'defender', 270, 1, 89, 11, 0),\n",
              " ('Chaouchi', 'Algeria', 'goalkeeper', 90, 0, 17, 0, 2)]"
            ]
          },
          "metadata": {
            "tags": []
          },
          "execution_count": 24
        }
      ]
    },
    {
      "cell_type": "code",
      "metadata": {
        "id": "kO_zsWParv2n",
        "colab_type": "code",
        "colab": {},
        "outputId": "67452ece-cac0-4fd7-b903-372a5510984b"
      },
      "source": [
        "%%sql\n",
        "select * from Teams limit 5"
      ],
      "execution_count": 0,
      "outputs": [
        {
          "output_type": "stream",
          "text": [
            " * sqlite://\n",
            "Done.\n"
          ],
          "name": "stdout"
        },
        {
          "output_type": "execute_result",
          "data": {
            "text/html": [
              "<table>\n",
              "    <tr>\n",
              "        <th>team</th>\n",
              "        <th>ranking</th>\n",
              "        <th>games</th>\n",
              "        <th>wins</th>\n",
              "        <th>draws</th>\n",
              "        <th>losses</th>\n",
              "        <th>goalsFor</th>\n",
              "        <th>goalsAgainst</th>\n",
              "        <th>yellowCards</th>\n",
              "        <th>redCards</th>\n",
              "    </tr>\n",
              "    <tr>\n",
              "        <td>Brazil</td>\n",
              "        <td>1</td>\n",
              "        <td>5</td>\n",
              "        <td>3</td>\n",
              "        <td>1</td>\n",
              "        <td>1</td>\n",
              "        <td>9</td>\n",
              "        <td>4</td>\n",
              "        <td>7</td>\n",
              "        <td>2</td>\n",
              "    </tr>\n",
              "    <tr>\n",
              "        <td>Spain</td>\n",
              "        <td>2</td>\n",
              "        <td>6</td>\n",
              "        <td>5</td>\n",
              "        <td>0</td>\n",
              "        <td>1</td>\n",
              "        <td>7</td>\n",
              "        <td>2</td>\n",
              "        <td>3</td>\n",
              "        <td>0</td>\n",
              "    </tr>\n",
              "    <tr>\n",
              "        <td>Portugal</td>\n",
              "        <td>3</td>\n",
              "        <td>4</td>\n",
              "        <td>1</td>\n",
              "        <td>2</td>\n",
              "        <td>1</td>\n",
              "        <td>7</td>\n",
              "        <td>1</td>\n",
              "        <td>8</td>\n",
              "        <td>1</td>\n",
              "    </tr>\n",
              "    <tr>\n",
              "        <td>Netherlands</td>\n",
              "        <td>4</td>\n",
              "        <td>6</td>\n",
              "        <td>6</td>\n",
              "        <td>0</td>\n",
              "        <td>0</td>\n",
              "        <td>12</td>\n",
              "        <td>5</td>\n",
              "        <td>15</td>\n",
              "        <td>0</td>\n",
              "    </tr>\n",
              "    <tr>\n",
              "        <td>Italy</td>\n",
              "        <td>5</td>\n",
              "        <td>3</td>\n",
              "        <td>0</td>\n",
              "        <td>2</td>\n",
              "        <td>1</td>\n",
              "        <td>4</td>\n",
              "        <td>5</td>\n",
              "        <td>5</td>\n",
              "        <td>0</td>\n",
              "    </tr>\n",
              "</table>"
            ],
            "text/plain": [
              "[('Brazil', 1, 5, 3, 1, 1, 9, 4, 7, 2),\n",
              " ('Spain', 2, 6, 5, 0, 1, 7, 2, 3, 0),\n",
              " ('Portugal', 3, 4, 1, 2, 1, 7, 1, 8, 1),\n",
              " ('Netherlands', 4, 6, 6, 0, 0, 12, 5, 15, 0),\n",
              " ('Italy', 5, 3, 0, 2, 1, 4, 5, 5, 0)]"
            ]
          },
          "metadata": {
            "tags": []
          },
          "execution_count": 61
        }
      ]
    },
    {
      "cell_type": "code",
      "metadata": {
        "id": "O2BgZoxerv2q",
        "colab_type": "code",
        "colab": {},
        "outputId": "513e96d6-6d71-414d-91d0-6a43a73740c1"
      },
      "source": [
        "%%sql\n",
        "select * from PlayersExt limit 5"
      ],
      "execution_count": 0,
      "outputs": [
        {
          "output_type": "stream",
          "text": [
            " * sqlite://\n",
            "Done.\n"
          ],
          "name": "stdout"
        },
        {
          "output_type": "execute_result",
          "data": {
            "text/html": [
              "<table>\n",
              "    <tr>\n",
              "        <th>surname</th>\n",
              "        <th>team</th>\n",
              "        <th>ranking</th>\n",
              "        <th>games</th>\n",
              "        <th>wins</th>\n",
              "        <th>draws</th>\n",
              "        <th>losses</th>\n",
              "        <th>goalsFor</th>\n",
              "        <th>goalsAgainst</th>\n",
              "        <th>yellowCards</th>\n",
              "        <th>redCards</th>\n",
              "        <th>position</th>\n",
              "        <th>minutes</th>\n",
              "        <th>shots</th>\n",
              "        <th>passes</th>\n",
              "        <th>tackles</th>\n",
              "        <th>saves</th>\n",
              "    </tr>\n",
              "    <tr>\n",
              "        <td>Abdoun</td>\n",
              "        <td>Algeria</td>\n",
              "        <td>30</td>\n",
              "        <td>3</td>\n",
              "        <td>0</td>\n",
              "        <td>1</td>\n",
              "        <td>2</td>\n",
              "        <td>0</td>\n",
              "        <td>2</td>\n",
              "        <td>4</td>\n",
              "        <td>2</td>\n",
              "        <td>midfielder</td>\n",
              "        <td>16</td>\n",
              "        <td>0</td>\n",
              "        <td>6</td>\n",
              "        <td>0</td>\n",
              "        <td>0</td>\n",
              "    </tr>\n",
              "    <tr>\n",
              "        <td>Belhadj</td>\n",
              "        <td>Algeria</td>\n",
              "        <td>30</td>\n",
              "        <td>3</td>\n",
              "        <td>0</td>\n",
              "        <td>1</td>\n",
              "        <td>2</td>\n",
              "        <td>0</td>\n",
              "        <td>2</td>\n",
              "        <td>4</td>\n",
              "        <td>2</td>\n",
              "        <td>defender</td>\n",
              "        <td>270</td>\n",
              "        <td>1</td>\n",
              "        <td>146</td>\n",
              "        <td>8</td>\n",
              "        <td>0</td>\n",
              "    </tr>\n",
              "    <tr>\n",
              "        <td>Boudebouz</td>\n",
              "        <td>Algeria</td>\n",
              "        <td>30</td>\n",
              "        <td>3</td>\n",
              "        <td>0</td>\n",
              "        <td>1</td>\n",
              "        <td>2</td>\n",
              "        <td>0</td>\n",
              "        <td>2</td>\n",
              "        <td>4</td>\n",
              "        <td>2</td>\n",
              "        <td>midfielder</td>\n",
              "        <td>74</td>\n",
              "        <td>3</td>\n",
              "        <td>28</td>\n",
              "        <td>1</td>\n",
              "        <td>0</td>\n",
              "    </tr>\n",
              "    <tr>\n",
              "        <td>Bougherra</td>\n",
              "        <td>Algeria</td>\n",
              "        <td>30</td>\n",
              "        <td>3</td>\n",
              "        <td>0</td>\n",
              "        <td>1</td>\n",
              "        <td>2</td>\n",
              "        <td>0</td>\n",
              "        <td>2</td>\n",
              "        <td>4</td>\n",
              "        <td>2</td>\n",
              "        <td>defender</td>\n",
              "        <td>270</td>\n",
              "        <td>1</td>\n",
              "        <td>89</td>\n",
              "        <td>11</td>\n",
              "        <td>0</td>\n",
              "    </tr>\n",
              "    <tr>\n",
              "        <td>Chaouchi</td>\n",
              "        <td>Algeria</td>\n",
              "        <td>30</td>\n",
              "        <td>3</td>\n",
              "        <td>0</td>\n",
              "        <td>1</td>\n",
              "        <td>2</td>\n",
              "        <td>0</td>\n",
              "        <td>2</td>\n",
              "        <td>4</td>\n",
              "        <td>2</td>\n",
              "        <td>goalkeeper</td>\n",
              "        <td>90</td>\n",
              "        <td>0</td>\n",
              "        <td>17</td>\n",
              "        <td>0</td>\n",
              "        <td>2</td>\n",
              "    </tr>\n",
              "</table>"
            ],
            "text/plain": [
              "[('Abdoun', 'Algeria', 30, 3, 0, 1, 2, 0, 2, 4, 2, 'midfielder', 16, 0, 6, 0, 0),\n",
              " ('Belhadj', 'Algeria', 30, 3, 0, 1, 2, 0, 2, 4, 2, 'defender', 270, 1, 146, 8, 0),\n",
              " ('Boudebouz', 'Algeria', 30, 3, 0, 1, 2, 0, 2, 4, 2, 'midfielder', 74, 3, 28, 1, 0),\n",
              " ('Bougherra', 'Algeria', 30, 3, 0, 1, 2, 0, 2, 4, 2, 'defender', 270, 1, 89, 11, 0),\n",
              " ('Chaouchi', 'Algeria', 30, 3, 0, 1, 2, 0, 2, 4, 2, 'goalkeeper', 90, 0, 17, 0, 2)]"
            ]
          },
          "metadata": {
            "tags": []
          },
          "execution_count": 62
        }
      ]
    },
    {
      "cell_type": "markdown",
      "metadata": {
        "id": "Y4idDRWnrv2t",
        "colab_type": "text"
      },
      "source": [
        "#### <font color = 'green'>World Cup Basic Queries</font>"
      ]
    },
    {
      "cell_type": "markdown",
      "metadata": {
        "collapsed": true,
        "id": "1gAiTrCfrv2u",
        "colab_type": "text"
      },
      "source": [
        "*1)  What player on a team with “ia” in the team name played less than 200 minutes and made more than 100 passes? Return the player surname and team. *\n",
        "\n",
        "__Hint: To check if attribute A contains string S use \"A like '%S%'\" __"
      ]
    },
    {
      "cell_type": "code",
      "metadata": {
        "id": "XryfvRTLrv2v",
        "colab_type": "code",
        "colab": {},
        "outputId": "75431953-b903-43d3-f9dd-f6b90925d53e"
      },
      "source": [
        "%%sql\n",
        "select surname, team from Players where Players.team like '%ia%' AND Players.minutes < 200 \n",
        "AND Players.passes > 100"
      ],
      "execution_count": 0,
      "outputs": [
        {
          "output_type": "stream",
          "text": [
            " * sqlite://\n",
            "Done.\n"
          ],
          "name": "stdout"
        },
        {
          "output_type": "execute_result",
          "data": {
            "text/html": [
              "<table>\n",
              "    <tr>\n",
              "        <th>surname</th>\n",
              "        <th>team</th>\n",
              "    </tr>\n",
              "    <tr>\n",
              "        <td>Kuzmanovic</td>\n",
              "        <td>Serbia</td>\n",
              "    </tr>\n",
              "</table>"
            ],
            "text/plain": [
              "[('Kuzmanovic', 'Serbia')]"
            ]
          },
          "metadata": {
            "tags": []
          },
          "execution_count": 5
        }
      ]
    },
    {
      "cell_type": "markdown",
      "metadata": {
        "collapsed": true,
        "id": "Qzl5BXZTrv2y",
        "colab_type": "text"
      },
      "source": [
        "*2) Find all players who made more than 20 shots. Return all player information in descending order of shots made.*\n",
        "\n",
        "__Hint: SQL ordering syntax: \"ORDER BY column1, column2, ... ASC|DESC\" __"
      ]
    },
    {
      "cell_type": "code",
      "metadata": {
        "id": "6Yd6-juYrv2z",
        "colab_type": "code",
        "colab": {},
        "outputId": "5b79a568-af13-4e2a-dbf7-3c933a2e0621"
      },
      "source": [
        "%%sql\n",
        "select * from Players where Players.shots > 20 order by Players.shots desc"
      ],
      "execution_count": 0,
      "outputs": [
        {
          "output_type": "stream",
          "text": [
            " * sqlite://\n",
            "Done.\n"
          ],
          "name": "stdout"
        },
        {
          "output_type": "execute_result",
          "data": {
            "text/html": [
              "<table>\n",
              "    <tr>\n",
              "        <th>surname</th>\n",
              "        <th>team</th>\n",
              "        <th>position</th>\n",
              "        <th>minutes</th>\n",
              "        <th>shots</th>\n",
              "        <th>passes</th>\n",
              "        <th>tackles</th>\n",
              "        <th>saves</th>\n",
              "    </tr>\n",
              "    <tr>\n",
              "        <td>Gyan</td>\n",
              "        <td>Ghana</td>\n",
              "        <td>forward</td>\n",
              "        <td>501</td>\n",
              "        <td>27</td>\n",
              "        <td>151</td>\n",
              "        <td>1</td>\n",
              "        <td>0</td>\n",
              "    </tr>\n",
              "    <tr>\n",
              "        <td>Villa</td>\n",
              "        <td>Spain</td>\n",
              "        <td>forward</td>\n",
              "        <td>529</td>\n",
              "        <td>22</td>\n",
              "        <td>169</td>\n",
              "        <td>2</td>\n",
              "        <td>0</td>\n",
              "    </tr>\n",
              "    <tr>\n",
              "        <td>Messi</td>\n",
              "        <td>Argentina</td>\n",
              "        <td>forward</td>\n",
              "        <td>450</td>\n",
              "        <td>21</td>\n",
              "        <td>321</td>\n",
              "        <td>10</td>\n",
              "        <td>0</td>\n",
              "    </tr>\n",
              "</table>"
            ],
            "text/plain": [
              "[('Gyan', 'Ghana', 'forward', 501, 27, 151, 1, 0),\n",
              " ('Villa', 'Spain', 'forward', 529, 22, 169, 2, 0),\n",
              " ('Messi', 'Argentina', 'forward', 450, 21, 321, 10, 0)]"
            ]
          },
          "metadata": {
            "tags": []
          },
          "execution_count": 19
        }
      ]
    },
    {
      "cell_type": "markdown",
      "metadata": {
        "collapsed": true,
        "id": "WTaGyqZMrv21",
        "colab_type": "text"
      },
      "source": [
        "*3) Find the goalkeepers of teams that played more than four games. List the surname of the goalkeeper, the team, and the number of minutes the goalkeeper played.*\n",
        "\n",
        "__Hint: You should use the joined data, `PlayersExt`__"
      ]
    },
    {
      "cell_type": "code",
      "metadata": {
        "id": "rjHyLG6irv22",
        "colab_type": "code",
        "colab": {},
        "outputId": "593fab20-69c3-440e-e34e-2736de67ebd6"
      },
      "source": [
        "%%sql\n",
        "select surname, team, minutes from PlayersExt \n",
        "where PlayersExt.games > 4\n",
        "AND PlayersExt.position = 'goalkeeper'"
      ],
      "execution_count": 0,
      "outputs": [
        {
          "output_type": "stream",
          "text": [
            " * sqlite://\n",
            "Done.\n"
          ],
          "name": "stdout"
        },
        {
          "output_type": "execute_result",
          "data": {
            "text/html": [
              "<table>\n",
              "    <tr>\n",
              "        <th>surname</th>\n",
              "        <th>team</th>\n",
              "        <th>minutes</th>\n",
              "    </tr>\n",
              "    <tr>\n",
              "        <td>Romero</td>\n",
              "        <td>Argentina</td>\n",
              "        <td>450</td>\n",
              "    </tr>\n",
              "    <tr>\n",
              "        <td>Julio Cesar</td>\n",
              "        <td>Brazil</td>\n",
              "        <td>450</td>\n",
              "    </tr>\n",
              "    <tr>\n",
              "        <td>Neuer</td>\n",
              "        <td>Germany</td>\n",
              "        <td>540</td>\n",
              "    </tr>\n",
              "    <tr>\n",
              "        <td>Kingson</td>\n",
              "        <td>Ghana</td>\n",
              "        <td>510</td>\n",
              "    </tr>\n",
              "    <tr>\n",
              "        <td>Stekelenburg</td>\n",
              "        <td>Netherlands</td>\n",
              "        <td>540</td>\n",
              "    </tr>\n",
              "    <tr>\n",
              "        <td>Villar</td>\n",
              "        <td>Paraguay</td>\n",
              "        <td>480</td>\n",
              "    </tr>\n",
              "    <tr>\n",
              "        <td>Casillas</td>\n",
              "        <td>Spain</td>\n",
              "        <td>540</td>\n",
              "    </tr>\n",
              "    <tr>\n",
              "        <td>Muslera</td>\n",
              "        <td>Uruguay</td>\n",
              "        <td>570</td>\n",
              "    </tr>\n",
              "</table>"
            ],
            "text/plain": [
              "[('Romero', 'Argentina', 450),\n",
              " ('Julio Cesar', 'Brazil', 450),\n",
              " ('Neuer', 'Germany', 540),\n",
              " ('Kingson', 'Ghana', 510),\n",
              " ('Stekelenburg', 'Netherlands', 540),\n",
              " ('Villar', 'Paraguay', 480),\n",
              " ('Casillas', 'Spain', 540),\n",
              " ('Muslera', 'Uruguay', 570)]"
            ]
          },
          "metadata": {
            "tags": []
          },
          "execution_count": 28
        }
      ]
    },
    {
      "cell_type": "markdown",
      "metadata": {
        "collapsed": true,
        "id": "4hN9M4nErv25",
        "colab_type": "text"
      },
      "source": [
        "*4) How many players who play on a team with ranking <10 played more than 350 minutes? Return one number in a column named 'superstar'.*"
      ]
    },
    {
      "cell_type": "code",
      "metadata": {
        "id": "cKMNeZUXrv26",
        "colab_type": "code",
        "colab": {},
        "outputId": "047d2ae0-f60c-4015-daa5-26d8aab3435d"
      },
      "source": [
        "%%sql\n",
        "select count(*) AS superstar from PlayersExt\n",
        "where PlayersExt.ranking < 10\n",
        "AND PlayersExt.minutes > 350\n"
      ],
      "execution_count": 0,
      "outputs": [
        {
          "output_type": "stream",
          "text": [
            " * sqlite://\n",
            "Done.\n"
          ],
          "name": "stdout"
        },
        {
          "output_type": "execute_result",
          "data": {
            "text/html": [
              "<table>\n",
              "    <tr>\n",
              "        <th>superstar</th>\n",
              "    </tr>\n",
              "    <tr>\n",
              "        <td>54</td>\n",
              "    </tr>\n",
              "</table>"
            ],
            "text/plain": [
              "[(54,)]"
            ]
          },
          "metadata": {
            "tags": []
          },
          "execution_count": 33
        }
      ]
    },
    {
      "cell_type": "markdown",
      "metadata": {
        "collapsed": true,
        "id": "THTYMOrorv28",
        "colab_type": "text"
      },
      "source": [
        "*5) What is the average number of passes made by forwards? By midfielders? Write one query that gives both values with the corresponding position.*\n",
        "\n",
        "__Hint: use the GROUP BY clause__\n",
        "__Hint: when selecting columns you can use AVG, SUM or COUNT clauses to calculate aggregates__"
      ]
    },
    {
      "cell_type": "code",
      "metadata": {
        "id": "l3ncOLexrv29",
        "colab_type": "code",
        "colab": {},
        "outputId": "967ff8dc-aab7-49b1-b63e-0a4e5be6257d"
      },
      "source": [
        "%%sql\n",
        "select avg(passes), position from Players\n",
        "where position = 'forward' or position = 'midfielder'\n",
        "GROUP BY position\n",
        "\n"
      ],
      "execution_count": 0,
      "outputs": [
        {
          "output_type": "stream",
          "text": [
            " * sqlite://\n",
            "Done.\n"
          ],
          "name": "stdout"
        },
        {
          "output_type": "execute_result",
          "data": {
            "text/html": [
              "<table>\n",
              "    <tr>\n",
              "        <th>avg(passes)</th>\n",
              "        <th>position</th>\n",
              "    </tr>\n",
              "    <tr>\n",
              "        <td>50.82517482517483</td>\n",
              "        <td>forward</td>\n",
              "    </tr>\n",
              "    <tr>\n",
              "        <td>95.2719298245614</td>\n",
              "        <td>midfielder</td>\n",
              "    </tr>\n",
              "</table>"
            ],
            "text/plain": [
              "[(50.82517482517483, 'forward'), (95.2719298245614, 'midfielder')]"
            ]
          },
          "metadata": {
            "tags": []
          },
          "execution_count": 40
        }
      ]
    },
    {
      "cell_type": "markdown",
      "metadata": {
        "collapsed": true,
        "id": "8SuOcr2_rv3A",
        "colab_type": "text"
      },
      "source": [
        "*6) Which team has the highest average number of passes per minute played? Return the team and average passes per minute. *\n",
        "\n",
        "__Hint 1: You can compute a team's average number of passes per minute played by dividing the total number of passes by the total number of minutes. To force floating point division, multiply one operand by 1.0. __\n",
        "\n",
        "__Hint 2: Consider using Limit. __"
      ]
    },
    {
      "cell_type": "code",
      "metadata": {
        "id": "dUtIdcpzrv3A",
        "colab_type": "code",
        "colab": {},
        "outputId": "b33a0ef9-1bd2-45ee-f0eb-4f0f1e08091b"
      },
      "source": [
        "%%sql\n",
        "select sum(passes)*1.0 / sum(minutes) AS avg_nbpasses_per_minute, team from PlayersExt\n",
        "GROUP BY team\n",
        "ORDER BY avg_nbpasses_per_minute desc\n",
        "limit 5"
      ],
      "execution_count": 0,
      "outputs": [
        {
          "output_type": "stream",
          "text": [
            " * sqlite://\n",
            "Done.\n"
          ],
          "name": "stdout"
        },
        {
          "output_type": "execute_result",
          "data": {
            "text/html": [
              "<table>\n",
              "    <tr>\n",
              "        <th>avg_nbpasses_per_minute</th>\n",
              "        <th>team</th>\n",
              "    </tr>\n",
              "    <tr>\n",
              "        <td>0.6230639730639731</td>\n",
              "        <td>Spain</td>\n",
              "    </tr>\n",
              "    <tr>\n",
              "        <td>0.528080808080808</td>\n",
              "        <td>Argentina</td>\n",
              "    </tr>\n",
              "    <tr>\n",
              "        <td>0.4857026972216589</td>\n",
              "        <td>Brazil</td>\n",
              "    </tr>\n",
              "    <tr>\n",
              "        <td>0.48301053346924905</td>\n",
              "        <td>Germany</td>\n",
              "    </tr>\n",
              "    <tr>\n",
              "        <td>0.4684343434343434</td>\n",
              "        <td>Mexico</td>\n",
              "    </tr>\n",
              "</table>"
            ],
            "text/plain": [
              "[(0.6230639730639731, 'Spain'),\n",
              " (0.528080808080808, 'Argentina'),\n",
              " (0.4857026972216589, 'Brazil'),\n",
              " (0.48301053346924905, 'Germany'),\n",
              " (0.4684343434343434, 'Mexico')]"
            ]
          },
          "metadata": {
            "tags": []
          },
          "execution_count": 46
        }
      ]
    },
    {
      "cell_type": "markdown",
      "metadata": {
        "id": "44aqpBU_rv3D",
        "colab_type": "text"
      },
      "source": [
        "#### <font color = 'green'>World Cup Advanced Queries</font>"
      ]
    },
    {
      "cell_type": "markdown",
      "metadata": {
        "id": "tMzR6Agnrv3E",
        "colab_type": "text"
      },
      "source": [
        "*1) Find all pairs of teams who have the same number of goalsFor as\n",
        "each other and the same number of goalsAgainst as each other.\n",
        "Return the teams and numbers of goalsFor and goalsAgainst.\n",
        "Make sure to return each pair only once.*\n",
        "\n",
        "__Hint: You basically need to do a self join of the Teams table. For that you need to join different name aliases of the Teams table. checkout [here](https://www.w3schools.com/sql/sql_join_self.asp) for help.__"
      ]
    },
    {
      "cell_type": "code",
      "metadata": {
        "id": "n08DWD4drv3I",
        "colab_type": "code",
        "colab": {},
        "outputId": "2603bf9a-63b7-48d8-ed08-d5c7f219ece6"
      },
      "source": [
        "%%sql\n",
        "select A.team AS team_1, B.team AS team_2, A.goalsFor, A.goalsAgainst\n",
        "from Teams A, Teams B\n",
        "where A.ranking < B.ranking\n",
        "AND A.goalsFor = B.goalsFor\n",
        "AND A.goalsAgainst = B.goalsAgainst"
      ],
      "execution_count": 0,
      "outputs": [
        {
          "output_type": "stream",
          "text": [
            " * sqlite://\n",
            "Done.\n"
          ],
          "name": "stdout"
        },
        {
          "output_type": "execute_result",
          "data": {
            "text/html": [
              "<table>\n",
              "    <tr>\n",
              "        <th>team_1</th>\n",
              "        <th>team_2</th>\n",
              "        <th>goalsFor</th>\n",
              "        <th>goalsAgainst</th>\n",
              "    </tr>\n",
              "    <tr>\n",
              "        <td>Italy</td>\n",
              "        <td>Mexico</td>\n",
              "        <td>4</td>\n",
              "        <td>5</td>\n",
              "    </tr>\n",
              "    <tr>\n",
              "        <td>England</td>\n",
              "        <td>Chile</td>\n",
              "        <td>3</td>\n",
              "        <td>5</td>\n",
              "    </tr>\n",
              "    <tr>\n",
              "        <td>England</td>\n",
              "        <td>Nigeria</td>\n",
              "        <td>3</td>\n",
              "        <td>5</td>\n",
              "    </tr>\n",
              "    <tr>\n",
              "        <td>England</td>\n",
              "        <td>South Africa</td>\n",
              "        <td>3</td>\n",
              "        <td>5</td>\n",
              "    </tr>\n",
              "    <tr>\n",
              "        <td>Greece</td>\n",
              "        <td>Cameroon</td>\n",
              "        <td>2</td>\n",
              "        <td>5</td>\n",
              "    </tr>\n",
              "    <tr>\n",
              "        <td>Chile</td>\n",
              "        <td>Nigeria</td>\n",
              "        <td>3</td>\n",
              "        <td>5</td>\n",
              "    </tr>\n",
              "    <tr>\n",
              "        <td>Chile</td>\n",
              "        <td>South Africa</td>\n",
              "        <td>3</td>\n",
              "        <td>5</td>\n",
              "    </tr>\n",
              "    <tr>\n",
              "        <td>Australia</td>\n",
              "        <td>Denmark</td>\n",
              "        <td>3</td>\n",
              "        <td>6</td>\n",
              "    </tr>\n",
              "    <tr>\n",
              "        <td>Nigeria</td>\n",
              "        <td>South Africa</td>\n",
              "        <td>3</td>\n",
              "        <td>5</td>\n",
              "    </tr>\n",
              "</table>"
            ],
            "text/plain": [
              "[('Italy', 'Mexico', 4, 5),\n",
              " ('England', 'Chile', 3, 5),\n",
              " ('England', 'Nigeria', 3, 5),\n",
              " ('England', 'South Africa', 3, 5),\n",
              " ('Greece', 'Cameroon', 2, 5),\n",
              " ('Chile', 'Nigeria', 3, 5),\n",
              " ('Chile', 'South Africa', 3, 5),\n",
              " ('Australia', 'Denmark', 3, 6),\n",
              " ('Nigeria', 'South Africa', 3, 5)]"
            ]
          },
          "metadata": {
            "tags": []
          },
          "execution_count": 66
        }
      ]
    },
    {
      "cell_type": "markdown",
      "metadata": {
        "id": "Qyc_JLoLrv3L",
        "colab_type": "text"
      },
      "source": [
        "*2) Find all teams with ranking <30 where no player made more than 150 passes. Return the team and ranking.*\n",
        "\n",
        "__Hint: use HAVING clause (documentation [here](https://www.w3schools.com/sql/sql_having.asp))__"
      ]
    },
    {
      "cell_type": "code",
      "metadata": {
        "id": "gYZRhuRwrv3L",
        "colab_type": "code",
        "colab": {},
        "outputId": "5f452b98-f98c-4893-8222-e475a225f7c8"
      },
      "source": [
        "%%sql\n",
        "select team, ranking from PlayersExt\n",
        "WHERE ranking < 30\n",
        "GROUP BY team\n",
        "HAVING max(passes) < 150"
      ],
      "execution_count": 0,
      "outputs": [
        {
          "output_type": "stream",
          "text": [
            " * sqlite://\n",
            "Done.\n"
          ],
          "name": "stdout"
        },
        {
          "output_type": "execute_result",
          "data": {
            "text/html": [
              "<table>\n",
              "    <tr>\n",
              "        <th>team</th>\n",
              "        <th>ranking</th>\n",
              "    </tr>\n",
              "    <tr>\n",
              "        <td>France</td>\n",
              "        <td>9</td>\n",
              "    </tr>\n",
              "    <tr>\n",
              "        <td>Nigeria</td>\n",
              "        <td>21</td>\n",
              "    </tr>\n",
              "    <tr>\n",
              "        <td>Switzerland</td>\n",
              "        <td>24</td>\n",
              "    </tr>\n",
              "</table>"
            ],
            "text/plain": [
              "[('France', 9), ('Nigeria', 21), ('Switzerland', 24)]"
            ]
          },
          "metadata": {
            "tags": []
          },
          "execution_count": 81
        }
      ]
    },
    {
      "cell_type": "markdown",
      "metadata": {
        "id": "6QvpeSSMrv3O",
        "colab_type": "text"
      },
      "source": [
        "*3) Which team has the highest ratio of goalsFor to goalsAgainst?*"
      ]
    },
    {
      "cell_type": "code",
      "metadata": {
        "id": "sqVIe6Ycrv3P",
        "colab_type": "code",
        "colab": {},
        "outputId": "6890abe8-9e49-453f-cc76-2dbaa3475618"
      },
      "source": [
        "%%sql\n",
        "select team, goalsFor*1.0/goalsAgainst AS ratio\n",
        "from Teams\n",
        "ORDER BY ratio desc\n",
        "limit 1"
      ],
      "execution_count": 0,
      "outputs": [
        {
          "output_type": "stream",
          "text": [
            " * sqlite://\n",
            "Done.\n"
          ],
          "name": "stdout"
        },
        {
          "output_type": "execute_result",
          "data": {
            "text/html": [
              "<table>\n",
              "    <tr>\n",
              "        <th>team</th>\n",
              "        <th>ratio</th>\n",
              "    </tr>\n",
              "    <tr>\n",
              "        <td>Portugal</td>\n",
              "        <td>7.0</td>\n",
              "    </tr>\n",
              "</table>"
            ],
            "text/plain": [
              "[('Portugal', 7.0)]"
            ]
          },
          "metadata": {
            "tags": []
          },
          "execution_count": 86
        }
      ]
    },
    {
      "cell_type": "markdown",
      "metadata": {
        "id": "lEmedOK4rv3R",
        "colab_type": "text"
      },
      "source": [
        "*4) Find all teams whose defenders averaged more than 150 passes. Return the team and average number of passes by defenders, in descending order of average passes.*"
      ]
    },
    {
      "cell_type": "code",
      "metadata": {
        "id": "CA5Xxqc8rv3S",
        "colab_type": "code",
        "colab": {},
        "outputId": "f00e33dd-4cfa-4a12-9d64-00daa41ad724"
      },
      "source": [
        "%%sql\n",
        "select team, AVG(passes) AS avg_passes_defender\n",
        "from PlayersExt\n",
        "where position = 'defender'\n",
        "GROUP BY team\n",
        "HAVING avg_passes_defender > 150\n",
        "ORDER BY avg_passes_defender desc"
      ],
      "execution_count": 0,
      "outputs": [
        {
          "output_type": "stream",
          "text": [
            " * sqlite://\n",
            "Done.\n"
          ],
          "name": "stdout"
        },
        {
          "output_type": "execute_result",
          "data": {
            "text/html": [
              "<table>\n",
              "    <tr>\n",
              "        <th>team</th>\n",
              "        <th>avg_passes_defender</th>\n",
              "    </tr>\n",
              "    <tr>\n",
              "        <td>Spain</td>\n",
              "        <td>213.0</td>\n",
              "    </tr>\n",
              "    <tr>\n",
              "        <td>Brazil</td>\n",
              "        <td>190.0</td>\n",
              "    </tr>\n",
              "    <tr>\n",
              "        <td>Germany</td>\n",
              "        <td>189.83333333333334</td>\n",
              "    </tr>\n",
              "    <tr>\n",
              "        <td>Netherlands</td>\n",
              "        <td>182.5</td>\n",
              "    </tr>\n",
              "    <tr>\n",
              "        <td>Mexico</td>\n",
              "        <td>152.14285714285714</td>\n",
              "    </tr>\n",
              "</table>"
            ],
            "text/plain": [
              "[('Spain', 213.0),\n",
              " ('Brazil', 190.0),\n",
              " ('Germany', 189.83333333333334),\n",
              " ('Netherlands', 182.5),\n",
              " ('Mexico', 152.14285714285714)]"
            ]
          },
          "metadata": {
            "tags": []
          },
          "execution_count": 90
        }
      ]
    },
    {
      "cell_type": "markdown",
      "metadata": {
        "id": "vrJ0gYdsrv3U",
        "colab_type": "text"
      },
      "source": [
        "### <font color = 'green'>Titanic Data</font>"
      ]
    },
    {
      "cell_type": "code",
      "metadata": {
        "id": "J1-tBcZcrv3W",
        "colab_type": "code",
        "colab": {},
        "outputId": "a561a737-ca2a-4c4b-eda9-3bb7a542938e"
      },
      "source": [
        "# Load table from CSV file\n",
        "with open('Titanic.csv','rU') as f:\n",
        "    Titanic = pd.read_csv(f, index_col=0, encoding='utf-8')\n",
        "%sql drop table if exists Titanic;\n",
        "%sql persist Titanic"
      ],
      "execution_count": 0,
      "outputs": [
        {
          "output_type": "stream",
          "text": [
            "/Applications/anaconda/lib/python3.6/site-packages/ipykernel_launcher.py:2: DeprecationWarning: 'U' mode is deprecated\n",
            "  \n"
          ],
          "name": "stderr"
        },
        {
          "output_type": "stream",
          "text": [
            " * sqlite://\n",
            "Done.\n",
            " * sqlite://\n"
          ],
          "name": "stdout"
        },
        {
          "output_type": "execute_result",
          "data": {
            "text/plain": [
              "'Persisted titanic'"
            ]
          },
          "metadata": {
            "tags": []
          },
          "execution_count": 91
        }
      ]
    },
    {
      "cell_type": "markdown",
      "metadata": {
        "id": "pPVoC9Oxrv3Z",
        "colab_type": "text"
      },
      "source": [
        "#### Look at sample of Titanic table"
      ]
    },
    {
      "cell_type": "code",
      "metadata": {
        "id": "mAwIFSsErv3Z",
        "colab_type": "code",
        "colab": {},
        "outputId": "da7af4d5-295a-4af2-d39d-6c8b97fe0643"
      },
      "source": [
        "%%sql\n",
        "select * from Titanic limit 5"
      ],
      "execution_count": 0,
      "outputs": [
        {
          "output_type": "stream",
          "text": [
            " * sqlite://\n",
            "Done.\n"
          ],
          "name": "stdout"
        },
        {
          "output_type": "execute_result",
          "data": {
            "text/html": [
              "<table>\n",
              "    <tr>\n",
              "        <th>last</th>\n",
              "        <th>first</th>\n",
              "        <th>gender</th>\n",
              "        <th>age</th>\n",
              "        <th>class</th>\n",
              "        <th>fare</th>\n",
              "        <th>embarked</th>\n",
              "        <th>survived</th>\n",
              "    </tr>\n",
              "    <tr>\n",
              "        <td>Braund</td>\n",
              "        <td>Mr. Owen Harris</td>\n",
              "        <td>M</td>\n",
              "        <td>22.0</td>\n",
              "        <td>3</td>\n",
              "        <td>7.25</td>\n",
              "        <td>Southampton</td>\n",
              "        <td>no</td>\n",
              "    </tr>\n",
              "    <tr>\n",
              "        <td>Cumings</td>\n",
              "        <td>Mrs. John Bradley (Florence Briggs Thayer)</td>\n",
              "        <td>F</td>\n",
              "        <td>38.0</td>\n",
              "        <td>1</td>\n",
              "        <td>71.2833</td>\n",
              "        <td>Cherbourg</td>\n",
              "        <td>yes</td>\n",
              "    </tr>\n",
              "    <tr>\n",
              "        <td>Heikkinen</td>\n",
              "        <td>Miss Laina</td>\n",
              "        <td>F</td>\n",
              "        <td>26.0</td>\n",
              "        <td>3</td>\n",
              "        <td>7.925</td>\n",
              "        <td>Southampton</td>\n",
              "        <td>yes</td>\n",
              "    </tr>\n",
              "    <tr>\n",
              "        <td>Futrelle</td>\n",
              "        <td>Mrs. Jacques Heath (Lily May Peel)</td>\n",
              "        <td>F</td>\n",
              "        <td>35.0</td>\n",
              "        <td>1</td>\n",
              "        <td>53.1</td>\n",
              "        <td>Southampton</td>\n",
              "        <td>yes</td>\n",
              "    </tr>\n",
              "    <tr>\n",
              "        <td>Allen</td>\n",
              "        <td>Mr. William Henry</td>\n",
              "        <td>M</td>\n",
              "        <td>35.0</td>\n",
              "        <td>3</td>\n",
              "        <td>8.05</td>\n",
              "        <td>Southampton</td>\n",
              "        <td>no</td>\n",
              "    </tr>\n",
              "</table>"
            ],
            "text/plain": [
              "[('Braund', 'Mr. Owen Harris', 'M', 22.0, 3, 7.25, 'Southampton', 'no'),\n",
              " ('Cumings', 'Mrs. John Bradley (Florence Briggs Thayer)', 'F', 38.0, 1, 71.2833, 'Cherbourg', 'yes'),\n",
              " ('Heikkinen', 'Miss Laina', 'F', 26.0, 3, 7.925, 'Southampton', 'yes'),\n",
              " ('Futrelle', 'Mrs. Jacques Heath (Lily May Peel)', 'F', 35.0, 1, 53.1, 'Southampton', 'yes'),\n",
              " ('Allen', 'Mr. William Henry', 'M', 35.0, 3, 8.05, 'Southampton', 'no')]"
            ]
          },
          "metadata": {
            "tags": []
          },
          "execution_count": 92
        }
      ]
    },
    {
      "cell_type": "markdown",
      "metadata": {
        "id": "LfUZ57mjrv3c",
        "colab_type": "text"
      },
      "source": [
        "#### <font color = 'green'>Titanic Basic Queries</font>"
      ]
    },
    {
      "cell_type": "markdown",
      "metadata": {
        "collapsed": true,
        "id": "6DjbaTLqrv3c",
        "colab_type": "text"
      },
      "source": [
        "*1) How many married women over age 50 embarked in Cherbourg? Note: To check if attribute A begins with string S use \"A like 'S%'\"*"
      ]
    },
    {
      "cell_type": "code",
      "metadata": {
        "id": "uI1bq6H1rv3d",
        "colab_type": "code",
        "colab": {},
        "outputId": "8f57c46c-7c4f-41b6-f289-8685542a0635"
      },
      "source": [
        "%%sql\n",
        "select count(*) from Titanic where Titanic.gender == 'F' \n",
        "AND Titanic.embarked like 'Cherbourg%'\n",
        "AND Titanic.age > 50"
      ],
      "execution_count": 0,
      "outputs": [
        {
          "output_type": "stream",
          "text": [
            " * sqlite://\n",
            "Done.\n"
          ],
          "name": "stdout"
        },
        {
          "output_type": "execute_result",
          "data": {
            "text/html": [
              "<table>\n",
              "    <tr>\n",
              "        <th>count(*)</th>\n",
              "    </tr>\n",
              "    <tr>\n",
              "        <td>6</td>\n",
              "    </tr>\n",
              "</table>"
            ],
            "text/plain": [
              "[(6,)]"
            ]
          },
          "metadata": {
            "tags": []
          },
          "execution_count": 16
        }
      ]
    },
    {
      "cell_type": "markdown",
      "metadata": {
        "collapsed": true,
        "id": "CVVB8XB8rv3f",
        "colab_type": "text"
      },
      "source": [
        "*2) List the average fare paid by passengers in each of the embarkation cities (along with the city), in descending order of average fare.*"
      ]
    },
    {
      "cell_type": "code",
      "metadata": {
        "id": "nDulVW0Trv3g",
        "colab_type": "code",
        "colab": {},
        "outputId": "7dd6a3f8-f70c-4206-9316-de7e686558bc"
      },
      "source": [
        "%%sql\n",
        "select AVG(fare) as avg_fare, embarked \n",
        "from Titanic\n",
        "GROUP BY embarked\n",
        "ORDER BY avg_fare desc"
      ],
      "execution_count": 0,
      "outputs": [
        {
          "output_type": "stream",
          "text": [
            " * sqlite://\n",
            "Done.\n"
          ],
          "name": "stdout"
        },
        {
          "output_type": "execute_result",
          "data": {
            "text/html": [
              "<table>\n",
              "    <tr>\n",
              "        <th>avg_fare</th>\n",
              "        <th>embarked</th>\n",
              "    </tr>\n",
              "    <tr>\n",
              "        <td>59.95414404761905</td>\n",
              "        <td>Cherbourg</td>\n",
              "    </tr>\n",
              "    <tr>\n",
              "        <td>27.243651393188795</td>\n",
              "        <td>Southampton</td>\n",
              "    </tr>\n",
              "    <tr>\n",
              "        <td>13.276029870129872</td>\n",
              "        <td>Queenstown</td>\n",
              "    </tr>\n",
              "</table>"
            ],
            "text/plain": [
              "[(59.95414404761905, 'Cherbourg'),\n",
              " (27.243651393188795, 'Southampton'),\n",
              " (13.276029870129872, 'Queenstown')]"
            ]
          },
          "metadata": {
            "tags": []
          },
          "execution_count": 94
        }
      ]
    },
    {
      "cell_type": "markdown",
      "metadata": {
        "collapsed": true,
        "id": "RGufxOzmrv3i",
        "colab_type": "text"
      },
      "source": [
        "*3) What's the most common last name among passengers?*"
      ]
    },
    {
      "cell_type": "code",
      "metadata": {
        "id": "y0a9dIzRrv3j",
        "colab_type": "code",
        "colab": {},
        "outputId": "ed905f0e-e7c9-4a6d-b5e0-0d13fc8cceba"
      },
      "source": [
        "%%sql\n",
        "select COUNT(last) as freq, last\n",
        "from Titanic\n",
        "GROUP BY last \n",
        "ORDER BY freq desc\n",
        "limit 1"
      ],
      "execution_count": 0,
      "outputs": [
        {
          "output_type": "stream",
          "text": [
            " * sqlite://\n",
            "Done.\n"
          ],
          "name": "stdout"
        },
        {
          "output_type": "execute_result",
          "data": {
            "text/html": [
              "<table>\n",
              "    <tr>\n",
              "        <th>freq</th>\n",
              "        <th>last</th>\n",
              "    </tr>\n",
              "    <tr>\n",
              "        <td>9</td>\n",
              "        <td>Andersson</td>\n",
              "    </tr>\n",
              "</table>"
            ],
            "text/plain": [
              "[(9, 'Andersson')]"
            ]
          },
          "metadata": {
            "tags": []
          },
          "execution_count": 98
        }
      ]
    },
    {
      "cell_type": "markdown",
      "metadata": {
        "collapsed": true,
        "id": "51KolyZvrv3l",
        "colab_type": "text"
      },
      "source": [
        "*4) Write three queries: the total number of passengers; the number of passengers under 30; the number of passengers 30 or older. Why do the second and third numbers not add up to the first?*"
      ]
    },
    {
      "cell_type": "code",
      "metadata": {
        "id": "vUruPv5Jrv3m",
        "colab_type": "code",
        "colab": {},
        "outputId": "7d64c518-d8a1-41a1-9a4e-25659d8af74d"
      },
      "source": [
        "%%sql\n",
        "select COUNT(*)\n",
        "from Titanic"
      ],
      "execution_count": 0,
      "outputs": [
        {
          "output_type": "stream",
          "text": [
            " * sqlite://\n",
            "Done.\n"
          ],
          "name": "stdout"
        },
        {
          "output_type": "execute_result",
          "data": {
            "text/html": [
              "<table>\n",
              "    <tr>\n",
              "        <th>COUNT(*)</th>\n",
              "    </tr>\n",
              "    <tr>\n",
              "        <td>891</td>\n",
              "    </tr>\n",
              "</table>"
            ],
            "text/plain": [
              "[(891,)]"
            ]
          },
          "metadata": {
            "tags": []
          },
          "execution_count": 102
        }
      ]
    },
    {
      "cell_type": "code",
      "metadata": {
        "id": "Yx8HCHdvrv3p",
        "colab_type": "code",
        "colab": {},
        "outputId": "43013435-5a7e-4587-eb17-3f9550bfa7d3"
      },
      "source": [
        "%%sql\n",
        "select COUNT(*)\n",
        "from Titanic\n",
        "where age >= 30"
      ],
      "execution_count": 0,
      "outputs": [
        {
          "output_type": "stream",
          "text": [
            " * sqlite://\n",
            "Done.\n"
          ],
          "name": "stdout"
        },
        {
          "output_type": "execute_result",
          "data": {
            "text/html": [
              "<table>\n",
              "    <tr>\n",
              "        <th>COUNT(*)</th>\n",
              "    </tr>\n",
              "    <tr>\n",
              "        <td>330</td>\n",
              "    </tr>\n",
              "</table>"
            ],
            "text/plain": [
              "[(330,)]"
            ]
          },
          "metadata": {
            "tags": []
          },
          "execution_count": 100
        }
      ]
    },
    {
      "cell_type": "code",
      "metadata": {
        "id": "CC3iX6VCrv3s",
        "colab_type": "code",
        "colab": {},
        "outputId": "888f474b-3246-4a59-de9e-e32dcf35f155"
      },
      "source": [
        "%%sql\n",
        "select COUNT(*)\n",
        "from Titanic\n",
        "where age < 30"
      ],
      "execution_count": 0,
      "outputs": [
        {
          "output_type": "stream",
          "text": [
            " * sqlite://\n",
            "Done.\n"
          ],
          "name": "stdout"
        },
        {
          "output_type": "execute_result",
          "data": {
            "text/html": [
              "<table>\n",
              "    <tr>\n",
              "        <th>COUNT(*)</th>\n",
              "    </tr>\n",
              "    <tr>\n",
              "        <td>384</td>\n",
              "    </tr>\n",
              "</table>"
            ],
            "text/plain": [
              "[(384,)]"
            ]
          },
          "metadata": {
            "tags": []
          },
          "execution_count": 101
        }
      ]
    },
    {
      "cell_type": "markdown",
      "metadata": {
        "collapsed": true,
        "id": "UHYORXccrv3u",
        "colab_type": "text"
      },
      "source": [
        "*5) Blanks in SQL tables are given a special value called 'null', and conditions 'A is null' and 'A is not null' can be used in Where clauses to check whether attribute A has the 'null' value. How many passengers don't have a value for age? Now do your numbers add up?*"
      ]
    },
    {
      "cell_type": "code",
      "metadata": {
        "id": "1JC7euIJrv3v",
        "colab_type": "code",
        "colab": {},
        "outputId": "9f8d57e6-135a-4d89-f9de-4a902bd16d05"
      },
      "source": [
        "%%sql\n",
        "select COUNT(*)\n",
        "from Titanic\n",
        "where age is null"
      ],
      "execution_count": 0,
      "outputs": [
        {
          "output_type": "stream",
          "text": [
            " * sqlite://\n",
            "Done.\n"
          ],
          "name": "stdout"
        },
        {
          "output_type": "execute_result",
          "data": {
            "text/html": [
              "<table>\n",
              "    <tr>\n",
              "        <th>COUNT(*)</th>\n",
              "    </tr>\n",
              "    <tr>\n",
              "        <td>177</td>\n",
              "    </tr>\n",
              "</table>"
            ],
            "text/plain": [
              "[(177,)]"
            ]
          },
          "metadata": {
            "tags": []
          },
          "execution_count": 103
        }
      ]
    },
    {
      "cell_type": "markdown",
      "metadata": {
        "collapsed": true,
        "id": "T_2BN8TVrv3x",
        "colab_type": "text"
      },
      "source": [
        "*6) For male survivors, female survivors, male non-survivors, and female non-survivors, how many passengers were in each of those four categories and what was their average fare paid?*"
      ]
    },
    {
      "cell_type": "code",
      "metadata": {
        "id": "tBTnamSMrv3y",
        "colab_type": "code",
        "colab": {},
        "outputId": "35b6f754-1b43-4828-e0cf-cc2cba95840a"
      },
      "source": [
        "%%sql\n",
        "select gender, survived, COUNT(gender) as total, AVG(fare) as avg_fare\n",
        "from Titanic\n",
        "GROUP BY gender, survived"
      ],
      "execution_count": 0,
      "outputs": [
        {
          "output_type": "stream",
          "text": [
            " * sqlite://\n",
            "Done.\n"
          ],
          "name": "stdout"
        },
        {
          "output_type": "execute_result",
          "data": {
            "text/html": [
              "<table>\n",
              "    <tr>\n",
              "        <th>gender</th>\n",
              "        <th>survived</th>\n",
              "        <th>total</th>\n",
              "        <th>avg_fare</th>\n",
              "    </tr>\n",
              "    <tr>\n",
              "        <td>F</td>\n",
              "        <td>no</td>\n",
              "        <td>81</td>\n",
              "        <td>23.02438518518519</td>\n",
              "    </tr>\n",
              "    <tr>\n",
              "        <td>F</td>\n",
              "        <td>yes</td>\n",
              "        <td>233</td>\n",
              "        <td>51.93857339055791</td>\n",
              "    </tr>\n",
              "    <tr>\n",
              "        <td>M</td>\n",
              "        <td>no</td>\n",
              "        <td>468</td>\n",
              "        <td>21.960992948717944</td>\n",
              "    </tr>\n",
              "    <tr>\n",
              "        <td>M</td>\n",
              "        <td>yes</td>\n",
              "        <td>109</td>\n",
              "        <td>40.82148440366974</td>\n",
              "    </tr>\n",
              "</table>"
            ],
            "text/plain": [
              "[('F', 'no', 81, 23.02438518518519),\n",
              " ('F', 'yes', 233, 51.93857339055791),\n",
              " ('M', 'no', 468, 21.960992948717944),\n",
              " ('M', 'yes', 109, 40.82148440366974)]"
            ]
          },
          "metadata": {
            "tags": []
          },
          "execution_count": 104
        }
      ]
    },
    {
      "cell_type": "markdown",
      "metadata": {
        "id": "uRQJpHi_rv30",
        "colab_type": "text"
      },
      "source": [
        "#### <font color = 'green'>Titanic Advanced Queries</font>"
      ]
    },
    {
      "cell_type": "markdown",
      "metadata": {
        "id": "AToaXgrvrv31",
        "colab_type": "text"
      },
      "source": [
        "*1) Are there any pairs of passengers with the same last name where one is in first class and the other is in third class? If so, return the last name and the two first names. Label the first-name columns 'first' for the passenger in first class and 'third' for the passenger in third class.*"
      ]
    },
    {
      "cell_type": "code",
      "metadata": {
        "id": "ske2y1Dcrv32",
        "colab_type": "code",
        "colab": {}
      },
      "source": [
        "%%sql\n",
        "YOUR QUERY HERE"
      ],
      "execution_count": 0,
      "outputs": []
    },
    {
      "cell_type": "markdown",
      "metadata": {
        "id": "ir26rm1rrv34",
        "colab_type": "text"
      },
      "source": [
        "*2) Which embarkation cities have more than 40 passengers whose age is missing? Reminder: Blanks in SQL tables are given a special value called 'null', and conditions 'A is null' and 'A is not null' can be used in Where clauses to check whether attribute A has the 'null' value.*"
      ]
    },
    {
      "cell_type": "code",
      "metadata": {
        "id": "cKIsV82-rv34",
        "colab_type": "code",
        "colab": {}
      },
      "source": [
        "%%sql\n",
        "YOUR QUERY HERE"
      ],
      "execution_count": 0,
      "outputs": []
    },
    {
      "cell_type": "markdown",
      "metadata": {
        "id": "w4oVJrCXrv36",
        "colab_type": "text"
      },
      "source": [
        "*3) Find all classes where the average fare paid by passengers in that class was more than twice the overall average or less than half the overall average.*"
      ]
    },
    {
      "cell_type": "code",
      "metadata": {
        "id": "F7_mj9BRrv37",
        "colab_type": "code",
        "colab": {}
      },
      "source": [
        "%%sql\n",
        "YOUR QUERY HERE"
      ],
      "execution_count": 0,
      "outputs": []
    },
    {
      "cell_type": "markdown",
      "metadata": {
        "id": "1ZUhHNivrv39",
        "colab_type": "text"
      },
      "source": [
        "*4) EXTRA CREDIT CHALLENGE: List each class and its survival rate, i.e., the fraction of passengers in that class who survived.*"
      ]
    },
    {
      "cell_type": "code",
      "metadata": {
        "id": "WaKh56kKrv4B",
        "colab_type": "code",
        "colab": {}
      },
      "source": [
        "%%sql\n",
        "YOUR QUERY HERE"
      ],
      "execution_count": 0,
      "outputs": []
    },
    {
      "cell_type": "markdown",
      "metadata": {
        "id": "Nbv-u_4brv4D",
        "colab_type": "text"
      },
      "source": [
        "#### <font color = 'green'>Titanic Data Modification</font>"
      ]
    },
    {
      "cell_type": "code",
      "metadata": {
        "id": "D82mhLX9rv4E",
        "colab_type": "code",
        "colab": {},
        "outputId": "cba78931-8ba7-4ec3-cb5b-937115245fc7"
      },
      "source": [
        "# Reload table from CSV file\n",
        "# NOTE: You may want to reload frequently to reset the data as you\n",
        "# experiment with modifications\n",
        "with open('Titanic.csv','rU') as f:\n",
        "    Titanic = pd.read_csv(f, index_col=0, encoding='utf-8')\n",
        "%sql drop table if exists Titanic;\n",
        "%sql persist Titanic"
      ],
      "execution_count": 0,
      "outputs": [
        {
          "output_type": "stream",
          "text": [
            " * sqlite://\n",
            "Done.\n",
            " * sqlite://\n"
          ],
          "name": "stdout"
        },
        {
          "output_type": "stream",
          "text": [
            "/Applications/anaconda/lib/python3.6/site-packages/ipykernel_launcher.py:4: DeprecationWarning: 'U' mode is deprecated\n",
            "  after removing the cwd from sys.path.\n"
          ],
          "name": "stderr"
        },
        {
          "output_type": "execute_result",
          "data": {
            "text/plain": [
              "'Persisted titanic'"
            ]
          },
          "metadata": {
            "tags": []
          },
          "execution_count": 110
        }
      ]
    },
    {
      "cell_type": "markdown",
      "metadata": {
        "id": "4bhsVwHArv4F",
        "colab_type": "text"
      },
      "source": [
        "*1) Subtract 5 from the fare paid by any passenger under the age of 10. Then compute the new average fare similar to question 2 in the previous section. NOTE: You can put two SQL statements in one cell separated by a semicolon.*"
      ]
    },
    {
      "cell_type": "code",
      "metadata": {
        "id": "kKu6GNzbrv4G",
        "colab_type": "code",
        "colab": {},
        "outputId": "7dfcdfac-264d-4384-b287-14f8fff89172"
      },
      "source": [
        "%%sql\n",
        "UPDATE Titanic\n",
        "set fare = fare - 5\n",
        "where age < 10\n",
        ";\n",
        "select AVG(fare) as avg_fare, embarked \n",
        "from Titanic\n",
        "GROUP BY embarked\n",
        "ORDER BY avg_fare desc"
      ],
      "execution_count": 0,
      "outputs": [
        {
          "output_type": "stream",
          "text": [
            " * sqlite://\n",
            "62 rows affected.\n",
            "Done.\n"
          ],
          "name": "stdout"
        },
        {
          "output_type": "execute_result",
          "data": {
            "text/html": [
              "<table>\n",
              "    <tr>\n",
              "        <th>avg_fare</th>\n",
              "        <th>embarked</th>\n",
              "    </tr>\n",
              "    <tr>\n",
              "        <td>59.41842976190477</td>\n",
              "        <td>Cherbourg</td>\n",
              "    </tr>\n",
              "    <tr>\n",
              "        <td>26.48513746130026</td>\n",
              "        <td>Southampton</td>\n",
              "    </tr>\n",
              "    <tr>\n",
              "        <td>12.756549350649351</td>\n",
              "        <td>Queenstown</td>\n",
              "    </tr>\n",
              "</table>"
            ],
            "text/plain": [
              "[(59.41842976190477, 'Cherbourg'),\n",
              " (26.48513746130026, 'Southampton'),\n",
              " (12.756549350649351, 'Queenstown')]"
            ]
          },
          "metadata": {
            "tags": []
          },
          "execution_count": 106
        }
      ]
    },
    {
      "cell_type": "markdown",
      "metadata": {
        "id": "w-GPy_u7rv4I",
        "colab_type": "text"
      },
      "source": [
        "*2) Create a new table called Survivors, containing the last and first names of all passengers who survived. Then count the number of tuples in the new table.*\n",
        "\n",
        "__Hint: use the `CREATE TABLE` clause__"
      ]
    },
    {
      "cell_type": "code",
      "metadata": {
        "id": "bM827kozrv4J",
        "colab_type": "code",
        "colab": {},
        "outputId": "68441bad-71d1-41c2-c70b-d9c826b2cc16"
      },
      "source": [
        "%%sql\n",
        "drop table if exists Survivors;\n",
        "CREATE TABLE Survivors AS\n",
        "select first, last\n",
        "from Titanic \n",
        "where survived = 'yes'\n",
        ";\n",
        "select COUNT(*) from Survivors"
      ],
      "execution_count": 0,
      "outputs": [
        {
          "output_type": "stream",
          "text": [
            " * sqlite://\n",
            "Done.\n",
            "Done.\n",
            "Done.\n"
          ],
          "name": "stdout"
        },
        {
          "output_type": "execute_result",
          "data": {
            "text/html": [
              "<table>\n",
              "    <tr>\n",
              "        <th>COUNT(*)</th>\n",
              "    </tr>\n",
              "    <tr>\n",
              "        <td>342</td>\n",
              "    </tr>\n",
              "</table>"
            ],
            "text/plain": [
              "[(342,)]"
            ]
          },
          "metadata": {
            "tags": []
          },
          "execution_count": 117
        }
      ]
    },
    {
      "cell_type": "markdown",
      "metadata": {
        "id": "2Tf79DsMrv4N",
        "colab_type": "text"
      },
      "source": [
        "*3) In the Titanic table delete all but the passengers paid more than 300.*\n",
        "\n",
        "__Hint: use the `DELETE FROM` clause__"
      ]
    },
    {
      "cell_type": "code",
      "metadata": {
        "id": "Ra7i90Kprv4O",
        "colab_type": "code",
        "colab": {},
        "outputId": "95fdeab8-cf68-4c83-ce74-d21f9fa3f873"
      },
      "source": [
        "%%sql\n",
        "DELETE FROM Titanic WHERE fare < 300;\n",
        "select * from Titanic"
      ],
      "execution_count": 0,
      "outputs": [
        {
          "output_type": "stream",
          "text": [
            " * sqlite://\n",
            "888 rows affected.\n",
            "Done.\n"
          ],
          "name": "stdout"
        },
        {
          "output_type": "execute_result",
          "data": {
            "text/html": [
              "<table>\n",
              "    <tr>\n",
              "        <th>last</th>\n",
              "        <th>first</th>\n",
              "        <th>gender</th>\n",
              "        <th>age</th>\n",
              "        <th>class</th>\n",
              "        <th>fare</th>\n",
              "        <th>embarked</th>\n",
              "        <th>survived</th>\n",
              "    </tr>\n",
              "    <tr>\n",
              "        <td>Ward</td>\n",
              "        <td>Miss Anna</td>\n",
              "        <td>F</td>\n",
              "        <td>35.0</td>\n",
              "        <td>1</td>\n",
              "        <td>512.3292</td>\n",
              "        <td>Cherbourg</td>\n",
              "        <td>yes</td>\n",
              "    </tr>\n",
              "    <tr>\n",
              "        <td>Cardeza</td>\n",
              "        <td>Mr. Thomas Drake Martinez</td>\n",
              "        <td>M</td>\n",
              "        <td>36.0</td>\n",
              "        <td>1</td>\n",
              "        <td>512.3292</td>\n",
              "        <td>Cherbourg</td>\n",
              "        <td>yes</td>\n",
              "    </tr>\n",
              "    <tr>\n",
              "        <td>Lesurer</td>\n",
              "        <td>Mr. Gustave J</td>\n",
              "        <td>M</td>\n",
              "        <td>35.0</td>\n",
              "        <td>1</td>\n",
              "        <td>512.3292</td>\n",
              "        <td>Cherbourg</td>\n",
              "        <td>yes</td>\n",
              "    </tr>\n",
              "</table>"
            ],
            "text/plain": [
              "[('Ward', 'Miss Anna', 'F', 35.0, 1, 512.3292, 'Cherbourg', 'yes'),\n",
              " ('Cardeza', 'Mr. Thomas Drake Martinez', 'M', 36.0, 1, 512.3292, 'Cherbourg', 'yes'),\n",
              " ('Lesurer', 'Mr. Gustave J', 'M', 35.0, 1, 512.3292, 'Cherbourg', 'yes')]"
            ]
          },
          "metadata": {
            "tags": []
          },
          "execution_count": 122
        }
      ]
    },
    {
      "cell_type": "markdown",
      "metadata": {
        "id": "1UikKtujrv4Q",
        "colab_type": "text"
      },
      "source": [
        "*4) In what's left of the table after (3), insert a new tuple for yourself. You can decide your class, fare, where you embarked, and whether you survived. Then show the whole table.*\n",
        "\n",
        "__Hint: use the `INSERT INTO` clause__"
      ]
    },
    {
      "cell_type": "code",
      "metadata": {
        "id": "bvNhrA6Brv4R",
        "colab_type": "code",
        "colab": {},
        "outputId": "ae6597b5-62d5-4918-8c45-d4d544ccf2ce"
      },
      "source": [
        "%%sql\n",
        "INSERT INTO Titanic (last, first, gender, age, class, fare, embarked, survived)\n",
        "VALUES ('aj', 'ahmad', 'M', 26, 1, 300, 'geneve', 'yes');\n",
        "select * from Titanic"
      ],
      "execution_count": 0,
      "outputs": [
        {
          "output_type": "stream",
          "text": [
            " * sqlite://\n",
            "1 rows affected.\n",
            "Done.\n"
          ],
          "name": "stdout"
        },
        {
          "output_type": "execute_result",
          "data": {
            "text/html": [
              "<table>\n",
              "    <tr>\n",
              "        <th>last</th>\n",
              "        <th>first</th>\n",
              "        <th>gender</th>\n",
              "        <th>age</th>\n",
              "        <th>class</th>\n",
              "        <th>fare</th>\n",
              "        <th>embarked</th>\n",
              "        <th>survived</th>\n",
              "    </tr>\n",
              "    <tr>\n",
              "        <td>Ward</td>\n",
              "        <td>Miss Anna</td>\n",
              "        <td>F</td>\n",
              "        <td>35.0</td>\n",
              "        <td>1</td>\n",
              "        <td>512.3292</td>\n",
              "        <td>Cherbourg</td>\n",
              "        <td>yes</td>\n",
              "    </tr>\n",
              "    <tr>\n",
              "        <td>Cardeza</td>\n",
              "        <td>Mr. Thomas Drake Martinez</td>\n",
              "        <td>M</td>\n",
              "        <td>36.0</td>\n",
              "        <td>1</td>\n",
              "        <td>512.3292</td>\n",
              "        <td>Cherbourg</td>\n",
              "        <td>yes</td>\n",
              "    </tr>\n",
              "    <tr>\n",
              "        <td>Lesurer</td>\n",
              "        <td>Mr. Gustave J</td>\n",
              "        <td>M</td>\n",
              "        <td>35.0</td>\n",
              "        <td>1</td>\n",
              "        <td>512.3292</td>\n",
              "        <td>Cherbourg</td>\n",
              "        <td>yes</td>\n",
              "    </tr>\n",
              "    <tr>\n",
              "        <td>aj</td>\n",
              "        <td>ahmad</td>\n",
              "        <td>M</td>\n",
              "        <td>26.0</td>\n",
              "        <td>1</td>\n",
              "        <td>300.0</td>\n",
              "        <td>geneve</td>\n",
              "        <td>yes</td>\n",
              "    </tr>\n",
              "</table>"
            ],
            "text/plain": [
              "[('Ward', 'Miss Anna', 'F', 35.0, 1, 512.3292, 'Cherbourg', 'yes'),\n",
              " ('Cardeza', 'Mr. Thomas Drake Martinez', 'M', 36.0, 1, 512.3292, 'Cherbourg', 'yes'),\n",
              " ('Lesurer', 'Mr. Gustave J', 'M', 35.0, 1, 512.3292, 'Cherbourg', 'yes'),\n",
              " ('aj', 'ahmad', 'M', 26.0, 1, 300.0, 'geneve', 'yes')]"
            ]
          },
          "metadata": {
            "tags": []
          },
          "execution_count": 123
        }
      ]
    }
  ]
}